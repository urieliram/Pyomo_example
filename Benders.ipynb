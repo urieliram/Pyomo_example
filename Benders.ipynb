{
  "cells": [
    {
      "cell_type": "markdown",
      "metadata": {
        "colab_type": "text",
        "id": "view-in-github"
      },
      "source": [
        "<a href=\"https://colab.research.google.com/github/urieliram/Pyomo_example/blob/main/Benders.ipynb\" target=\"_parent\"><img src=\"https://colab.research.google.com/assets/colab-badge.svg\" alt=\"Open In Colab\"/></a>"
      ]
    },
    {
      "cell_type": "code",
      "execution_count": 18,
      "metadata": {
        "colab": {
          "base_uri": "https://localhost:8080/",
          "height": 511
        },
        "id": "Y0TX_AUTjXuR",
        "outputId": "449ec67e-4fed-4a9b-8aaa-c618434909d5"
      },
      "outputs": [
        {
          "name": "stderr",
          "output_type": "stream",
          "text": [
            "WARNING:pyomo.core.base.set:DEPRECATED: The use of RealSet, IntegerSet, BinarySet and BooleanSet\n",
            "as Pyomo Set class generators is deprecated.  Please either use one of\n",
            "the pre-declared global Sets (e.g., Reals, NonNegativeReals, Integers,\n",
            "PositiveIntegers, Binary), or create a custom RangeSet.  (deprecated\n",
            "in 5.7.1)\n",
            "(called from /usr/local/lib/python3.10/dist-packages/pyomo/core/base/var.py:894)\n",
            "WARNING:pyomo.solvers:Could not locate the 'gurobi' executable, which is required for solver gurobi\n"
          ]
        },
        {
          "ename": "ApplicationError",
          "evalue": "No executable found for solver 'gurobi'",
          "output_type": "error",
          "traceback": [
            "\u001b[0;31m---------------------------------------------------------------------------\u001b[0m",
            "\u001b[0;31mApplicationError\u001b[0m                          Traceback (most recent call last)",
            "\u001b[0;32m<ipython-input-18-ab29489e9950>\u001b[0m in \u001b[0;36m<cell line: 83>\u001b[0;34m()\u001b[0m\n\u001b[1;32m     85\u001b[0m \u001b[0;34m\u001b[0m\u001b[0m\n\u001b[1;32m     86\u001b[0m     \u001b[0;31m# solving master problem\u001b[0m\u001b[0;34m\u001b[0m\u001b[0;34m\u001b[0m\u001b[0m\n\u001b[0;32m---> 87\u001b[0;31m     \u001b[0mSolverResultsMst\u001b[0m \u001b[0;34m=\u001b[0m \u001b[0mSolver\u001b[0m\u001b[0;34m.\u001b[0m\u001b[0msolve\u001b[0m\u001b[0;34m(\u001b[0m\u001b[0mmMaster_Bd\u001b[0m\u001b[0;34m)\u001b[0m\u001b[0;34m\u001b[0m\u001b[0;34m\u001b[0m\u001b[0m\n\u001b[0m\u001b[1;32m     88\u001b[0m     \u001b[0mZ1\u001b[0m \u001b[0;34m=\u001b[0m \u001b[0mmMaster_Bd\u001b[0m\u001b[0;34m.\u001b[0m\u001b[0meCostMst\u001b[0m\u001b[0;34m.\u001b[0m\u001b[0mexpr\u001b[0m\u001b[0;34m(\u001b[0m\u001b[0;34m)\u001b[0m\u001b[0;34m\u001b[0m\u001b[0;34m\u001b[0m\u001b[0m\n\u001b[1;32m     89\u001b[0m \u001b[0;34m\u001b[0m\u001b[0m\n",
            "\u001b[0;32m/usr/local/lib/python3.10/dist-packages/pyomo/opt/base/solvers.py\u001b[0m in \u001b[0;36msolve\u001b[0;34m(self, *args, **kwds)\u001b[0m\n\u001b[1;32m    531\u001b[0m         \u001b[0;34m\"\"\"Solve the problem\"\"\"\u001b[0m\u001b[0;34m\u001b[0m\u001b[0;34m\u001b[0m\u001b[0m\n\u001b[1;32m    532\u001b[0m \u001b[0;34m\u001b[0m\u001b[0m\n\u001b[0;32m--> 533\u001b[0;31m         \u001b[0mself\u001b[0m\u001b[0;34m.\u001b[0m\u001b[0mavailable\u001b[0m\u001b[0;34m(\u001b[0m\u001b[0mexception_flag\u001b[0m\u001b[0;34m=\u001b[0m\u001b[0;32mTrue\u001b[0m\u001b[0;34m)\u001b[0m\u001b[0;34m\u001b[0m\u001b[0;34m\u001b[0m\u001b[0m\n\u001b[0m\u001b[1;32m    534\u001b[0m         \u001b[0;31m#\u001b[0m\u001b[0;34m\u001b[0m\u001b[0;34m\u001b[0m\u001b[0m\n\u001b[1;32m    535\u001b[0m         \u001b[0;31m# If the inputs are models, then validate that they have been\u001b[0m\u001b[0;34m\u001b[0m\u001b[0;34m\u001b[0m\u001b[0m\n",
            "\u001b[0;32m/usr/local/lib/python3.10/dist-packages/pyomo/opt/solver/ilmcmd.py\u001b[0m in \u001b[0;36mavailable\u001b[0;34m(self, exception_flag)\u001b[0m\n\u001b[1;32m     35\u001b[0m         \u001b[0;32mif\u001b[0m \u001b[0mself\u001b[0m\u001b[0;34m.\u001b[0m\u001b[0m_assert_available\u001b[0m\u001b[0;34m:\u001b[0m\u001b[0;34m\u001b[0m\u001b[0;34m\u001b[0m\u001b[0m\n\u001b[1;32m     36\u001b[0m             \u001b[0;32mreturn\u001b[0m \u001b[0;32mTrue\u001b[0m\u001b[0;34m\u001b[0m\u001b[0;34m\u001b[0m\u001b[0m\n\u001b[0;32m---> 37\u001b[0;31m         if not pyomo.opt.solver.shellcmd.SystemCallSolver.available(\n\u001b[0m\u001b[1;32m     38\u001b[0m             \u001b[0mself\u001b[0m\u001b[0;34m,\u001b[0m \u001b[0mexception_flag\u001b[0m\u001b[0;34m\u001b[0m\u001b[0;34m\u001b[0m\u001b[0m\n\u001b[1;32m     39\u001b[0m         ):\n",
            "\u001b[0;32m/usr/local/lib/python3.10/dist-packages/pyomo/opt/solver/shellcmd.py\u001b[0m in \u001b[0;36mavailable\u001b[0;34m(self, exception_flag)\u001b[0m\n\u001b[1;32m    139\u001b[0m             \u001b[0;32mif\u001b[0m \u001b[0mexception_flag\u001b[0m\u001b[0;34m:\u001b[0m\u001b[0;34m\u001b[0m\u001b[0;34m\u001b[0m\u001b[0m\n\u001b[1;32m    140\u001b[0m                 \u001b[0mmsg\u001b[0m \u001b[0;34m=\u001b[0m \u001b[0;34m\"No executable found for solver '%s'\"\u001b[0m\u001b[0;34m\u001b[0m\u001b[0;34m\u001b[0m\u001b[0m\n\u001b[0;32m--> 141\u001b[0;31m                 \u001b[0;32mraise\u001b[0m \u001b[0mApplicationError\u001b[0m\u001b[0;34m(\u001b[0m\u001b[0mmsg\u001b[0m \u001b[0;34m%\u001b[0m \u001b[0mself\u001b[0m\u001b[0;34m.\u001b[0m\u001b[0mname\u001b[0m\u001b[0;34m)\u001b[0m\u001b[0;34m\u001b[0m\u001b[0;34m\u001b[0m\u001b[0m\n\u001b[0m\u001b[1;32m    142\u001b[0m             \u001b[0;32mreturn\u001b[0m \u001b[0;32mFalse\u001b[0m\u001b[0;34m\u001b[0m\u001b[0;34m\u001b[0m\u001b[0m\n\u001b[1;32m    143\u001b[0m         \u001b[0;32mreturn\u001b[0m \u001b[0;32mTrue\u001b[0m\u001b[0;34m\u001b[0m\u001b[0;34m\u001b[0m\u001b[0m\n",
            "\u001b[0;31mApplicationError\u001b[0m: No executable found for solver 'gurobi'"
          ]
        }
      ],
      "source": [
        "#https://pascua.iit.comillas.edu/aramos/simio/transpa/s_GoodOptimizationModelingPracticesPyomo.pdf\n",
        "import pandas as pd\n",
        "import pyomo.environ as pyo\n",
        "from pyomo.environ import ConcreteModel, Set, Param, Var, Binary, NonNegativeReals, RealSet, Constraint, Objective, minimize, Suffix, TerminationCondition\n",
        "from pyomo.opt import SolverFactory\n",
        "\n",
        "mFCTP = ConcreteModel('Fixed-Charge Transportation Problem')\n",
        "mMaster_Bd = ConcreteModel('Master problem')\n",
        "mFCTP.i = Set(initialize=['i1', 'i2', 'i3', 'i4'], doc='origins' )\n",
        "mFCTP.j = Set(initialize=['j1', 'j2', 'j3' ], doc='destinations')\n",
        "mMaster_Bd.l = Set(initialize=['it1', 'it2', 'it3', 'it4', 'it5', 'it6', 'it7', 'it8', 'it9', 'it10'], ordered=True, doc='iterations')\n",
        "mMaster_Bd.ll = Set( doc='iterations')\n",
        "mFCTP.pA = Param(mFCTP.i, initialize={'i1': 20, 'i2': 30, 'i3': 40, 'i4': 20}, doc='origin capacity' )\n",
        "mFCTP.pB = Param(mFCTP.j, initialize={'j1': 20, 'j2': 50, 'j3':30 }, doc='destination demand')\n",
        "FixedCost = {\n",
        "('i1', 'j1'): 10,\n",
        "('i1', 'j2'): 20,\n",
        "('i1', 'j3'): 30,\n",
        "('i2', 'j1'): 20,\n",
        "('i2', 'j2'): 30,\n",
        "('i2', 'j3'): 40,\n",
        "('i3', 'j1'): 30,\n",
        "('i3', 'j2'): 40,\n",
        "('i3', 'j3'): 50,\n",
        "('i4', 'j1'): 40,\n",
        "('i4', 'j2'): 50,\n",
        "('i4', 'j3'): 60,\n",
        "}\n",
        "TransportationCost = {\n",
        "('i1', 'j1'): 1,\n",
        "('i1', 'j2'): 2,\n",
        "('i1', 'j3'): 3,\n",
        "('i2', 'j1'): 3,\n",
        "('i2', 'j2'): 2,\n",
        "('i2', 'j3'): 1,\n",
        "('i3', 'j1'): 2,\n",
        "('i3', 'j2'): 3,\n",
        "('i3', 'j3'): 4,\n",
        "('i4', 'j1'): 4,\n",
        "('i4', 'j2'): 3,\n",
        "('i4', 'j3'): 2,\n",
        "}\n",
        "mFCTP.pF = Param(mFCTP.i, mFCTP.j, initialize=FixedCost, doc='fixed investment cost' )\n",
        "mFCTP.pC = Param(mFCTP.i, mFCTP.j, initialize=TransportationCost, doc='per unit transportation cost')\n",
        "mFCTP.vY = Var (mFCTP.i, mFCTP.j, bounds=(0,1), doc='units transported', within=Binary)\n",
        "mMaster_Bd.vY = Var (mFCTP.i, mFCTP.j, bounds=(0,1), doc='units transported', within=Binary)\n",
        "mMaster_Bd.vTheta = Var(doc='transportation cost', within=RealSet)\n",
        "mFCTP.vX = Var (mFCTP.i, mFCTP.j, bounds=(0.0,None), doc='units transported', within=NonNegativeReals)\n",
        "mFCTP.vDNS = Var ( mFCTP.j, bounds=(0.0,None), doc='demand not served', within=NonNegativeReals)\n",
        "\n",
        "def eCostMst(mMaster_Bd):\n",
        "  return sum(mFCTP.pF[i,j]*mMaster_Bd.vY[i,j] for i,j in mFCTP.i*mFCTP.j) + mMaster_Bd.vTheta\n",
        "mMaster_Bd.eCostMst = Objective(rule=eCostMst, sense=minimize, doc='total cost')\n",
        "def eBd_Cuts(mMaster_Bd, ll):\n",
        "  return mMaster_Bd.vTheta - Z2_L[ll] >= - sum(PI_L[ll,i,j] * min(mFCTP.pA[i],mFCTP.pB[j]) * (Y_L[ll,i,j] - mMaster_Bd.vY[i,j]) for i,j in mFCTP.i*mFCTP.j)\n",
        "def eCostSubp(mFCTP):\n",
        "  return sum(mFCTP.pC[i,j]*mFCTP.vX[i,j] for i,j in mFCTP.i*mFCTP.j) + sum(mFCTP.vDNS[j]*1000 for j in mFCTP.j)\n",
        "mFCTP.eCostSubp = Objective(rule=eCostSubp, sense=minimize, doc='transportation cost')\n",
        "def eCapacity(mFCTP, i):\n",
        "  return sum(mFCTP.vX[i,j] for j in mFCTP.j) <= mFCTP.pA[i]\n",
        "mFCTP.eCapacity = Constraint(mFCTP.i, rule=eCapacity, doc='maximum capacity of each origin')\n",
        "def eDemand (mFCTP, j):\n",
        "  return sum(mFCTP.vX[i,j] for i in mFCTP.i) + mFCTP.vDNS[j] >= mFCTP.pB[j]\n",
        "mFCTP.eDemand = Constraint( mFCTP.j, rule=eDemand, doc='demand supply at destination' )\n",
        "def eFlowLimit(mFCTP, i, j):\n",
        "  return mFCTP.vX[i,j] <= min(mFCTP.pA[i],mFCTP.pB[j])*mFCTP.vY[i,j]\n",
        "mFCTP.eFlowLimit = Constraint(mFCTP.i*mFCTP.j, rule=eFlowLimit, doc='arc flow limit' )\n",
        "\n",
        "Solver = SolverFactory('gurobi')\n",
        "Solver.options['LogFile'] = 'mFCTP.log'\n",
        "mFCTP.dual = Suffix(direction=Suffix.IMPORT)\n",
        "\n",
        "# initialization\n",
        "Z_Lower = float('-inf')\n",
        "Z_Upper = float(' inf')\n",
        "BdTol = 1e-6\n",
        "\n",
        "Y_L = pd.Series([0 ]*len(mMaster_Bd.l*mFCTP.i*mFCTP.j), index=pd.MultiIndex.from_tuples(mMaster_Bd.l*mFCTP.i*mFCTP.j))\n",
        "PI_L = pd.Series([0.]*len(mMaster_Bd.l*mFCTP.i*mFCTP.j), index=pd.MultiIndex.from_tuples(mMaster_Bd.l*mFCTP.i*mFCTP.j))\n",
        "Z2_L = pd.Series([0.]*len(mMaster_Bd.l ), index=mMaster_Bd.l)\n",
        "Delta = pd.Series([0 ]*len(mMaster_Bd.l ), index=mMaster_Bd.l)\n",
        "\n",
        "# Benders algorithm\n",
        "mMaster_Bd.vTheta.fix(0)\n",
        "for l in mMaster_Bd.l:\n",
        "  if abs(1-Z_Lower/Z_Upper) > BdTol or l == mMaster_Bd.l.first():\n",
        "\n",
        "    # solving master problem\n",
        "    SolverResultsMst = Solver.solve(mMaster_Bd)\n",
        "    Z1 = mMaster_Bd.eCostMst.expr()\n",
        "\n",
        "    for i,j in mFCTP.i*mFCTP.j:\n",
        "      # storing the master solution\n",
        "      Y_L[l,i,j] = mMaster_Bd.vY[i,j]()\n",
        "      # fix investment decision for the subproblem\n",
        "      mFCTP.vY[i,j].fix(Y_L[l,i,j])\n",
        "\n",
        "    # solving subproblem\n",
        "    SolverResultsSbp = Solver.solve(mFCTP)\n",
        "    Z2 = mFCTP.eCostSubp.expr()\n",
        "    Z2_L[l] = Z2\n",
        "\n",
        "    # storing parameters to build a new Benders cut\n",
        "    if SolverResultsSbp.solver.termination_condition == TerminationCondition.infeasible:\n",
        "      # the problem has to be feasible because I am not able to obtain the sum of infeasibilities of the phase I\n",
        "      Delta[l] = 0\n",
        "    else:\n",
        "      # updating lower and upper bound\n",
        "      Z_Lower = Z1\n",
        "      Z_Upper = min(Z_Upper, Z1 - mMaster_Bd.vTheta() + Z2)\n",
        "      print('Iteration ', l, ' Z_Lower ... ', Z_Lower)\n",
        "      print('Iteration ', l, ' Z_Upper ... ', Z_Upper)\n",
        "      mMaster_Bd.vTheta.free()\n",
        "\n",
        "      Delta[l] = 1\n",
        "\n",
        "    for i,j in mFCTP.i*mFCTP.j:\n",
        "      PI_L[l,i,j] = mFCTP.dual[mFCTP.eFlowLimit[i,j]]\n",
        "\n",
        "    mMaster_Bd.vY.unfix()\n",
        "\n",
        "    # add one cut\n",
        "    mMaster_Bd.ll.add(l)\n",
        "    ll = mMaster_Bd.ll\n",
        "    mMaster_Bd.eBd_Cuts = Constraint(mMaster_Bd.ll, rule=eBd_Cuts, doc='Benders cuts')\n",
        "\n",
        "mFCTP.eCostSubp.deactivate()\n",
        "mFCTP.vY.unfix()\n",
        "\n",
        "def eCost(mFCTP):\n",
        "  return sum(mFCTP.pF[i,j]*mFCTP.vY[i,j] for i,j in mFCTP.i*mFCTP.j) + sum(mFCTP.pC[i,j]*mFCTP.vX[i,j] for i,j in mFCTP.i*mFCTP.j) + sum(mFCTP.vDNS[j]*1000 for j in mFCTP.j)\n",
        "mFCTP.eCost = Objective(rule=eCost, sense=minimize, doc='total cost')\n",
        "\n",
        "SolverResults = Solver.solve(mFCTP, tee=True)\n",
        "SolverResults.write()"
      ]
    },
    {
      "cell_type": "code",
      "execution_count": 19,
      "metadata": {
        "colab": {
          "base_uri": "https://localhost:8080/"
        },
        "id": "hsuGajb7jjMA",
        "outputId": "60018954-691d-4418-bbbd-11089a3875c8"
      },
      "outputs": [
        {
          "name": "stdout",
          "output_type": "stream",
          "text": [
            "Requirement already satisfied: pyomo in /usr/local/lib/python3.10/dist-packages (6.7.0)\n",
            "Requirement already satisfied: ply in /usr/local/lib/python3.10/dist-packages (from pyomo) (3.11)\n",
            "\u001b[31mERROR: Could not find a version that satisfies the requirement gurobi (from versions: none)\u001b[0m\u001b[31m\n",
            "\u001b[0m\u001b[31mERROR: No matching distribution found for gurobi\u001b[0m\u001b[31m\n",
            "\u001b[0m"
          ]
        }
      ],
      "source": [
        "!pip install pyomo"
      ]
    }
  ],
  "metadata": {
    "colab": {
      "authorship_tag": "ABX9TyMrUMu4Znqvn88xej2zN7+W",
      "include_colab_link": true,
      "provenance": []
    },
    "kernelspec": {
      "display_name": "Python 3",
      "name": "python3"
    },
    "language_info": {
      "name": "python"
    }
  },
  "nbformat": 4,
  "nbformat_minor": 0
}
