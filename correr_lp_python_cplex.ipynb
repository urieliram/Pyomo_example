{
 "cells": [
  {
   "cell_type": "code",
   "execution_count": 10,
   "metadata": {},
   "outputs": [
    {
     "name": "stdout",
     "output_type": "stream",
     "text": [
      "Version identifier: 22.1.1.0 | 2023-02-09 | 22d6266e5\n",
      "CPXPARAM_Read_DataCheck                          1\n",
      "Tried aggregator 3 times.\n",
      "MIP Presolve eliminated 58 rows and 16 columns.\n",
      "MIP Presolve modified 24 coefficients.\n",
      "Aggregator did 4 substitutions.\n",
      "Reduced MIP has 126 rows, 71 columns, and 365 nonzeros.\n",
      "Reduced MIP has 39 binaries, 0 generals, 0 SOSs, and 0 indicators.\n",
      "Presolve time = 0.02 sec. (0.41 ticks)\n",
      "Found incumbent of value 17850.000000 after 0.03 sec. (0.75 ticks)\n",
      "Probing fixed 5 vars, tightened 3 bounds.\n",
      "Probing changed sense of 1 constraints.\n",
      "Probing time = 0.00 sec. (0.22 ticks)\n",
      "Tried aggregator 2 times.\n"
     ]
    },
    {
     "name": "stdout",
     "output_type": "stream",
     "text": [
      "MIP Presolve eliminated 9 rows and 7 columns.\n",
      "MIP Presolve modified 7 coefficients.\n",
      "Aggregator did 1 substitutions.\n",
      "Reduced MIP has 116 rows, 63 columns, and 327 nonzeros.\n",
      "Reduced MIP has 31 binaries, 0 generals, 0 SOSs, and 0 indicators.\n",
      "Presolve time = 0.00 sec. (0.31 ticks)\n",
      "Probing time = 0.00 sec. (0.14 ticks)\n",
      "Tried aggregator 1 time.\n",
      "Detecting symmetries...\n",
      "Reduced MIP has 116 rows, 63 columns, and 327 nonzeros.\n",
      "Reduced MIP has 31 binaries, 0 generals, 0 SOSs, and 0 indicators.\n",
      "Presolve time = 0.00 sec. (0.18 ticks)\n",
      "Probing time = 0.00 sec. (0.14 ticks)\n",
      "Clique table members: 87.\n",
      "MIP emphasis: balance optimality and feasibility.\n",
      "MIP search method: dynamic search.\n",
      "Parallel mode: deterministic, using up to 8 threads.\n",
      "Root relaxation solution time = 0.00 sec. (0.17 ticks)\n",
      "\n",
      "        Nodes                                         Cuts/\n",
      "   Node  Left     Objective  IInf  Best Integer    Best Bound    ItCnt     Gap\n",
      "\n",
      "*     0+    0                        17850.0000     3550.0000            80.11%\n",
      "      0     0     8775.0000     9    17850.0000     8775.0000       21   50.84%\n",
      "*     0+    0                         9100.0000     8775.0000             3.57%\n",
      "      0     0        cutoff           9100.0000                     22    0.00%\n",
      "Elapsed time = 0.16 sec. (2.51 ticks, tree = 0.01 MB, solutions = 2)\n",
      "\n",
      "Root node processing (before b&c):\n",
      "  Real time             =    0.16 sec. (2.51 ticks)\n",
      "Parallel b&c, 8 threads:\n",
      "  Real time             =    0.00 sec. (0.00 ticks)\n",
      "  Sync time (average)   =    0.00 sec.\n",
      "  Wait time (average)   =    0.00 sec.\n",
      "                          ------------\n",
      "Total (root+branch&cut) =    0.16 sec. (2.51 ticks)\n",
      "Estado de la solución: integer optimal solution\n"
     ]
    }
   ],
   "source": [
    "import cplex\n",
    "\n",
    "# Crear una instancia de Cplex con el archivo LP\n",
    "cpx = cplex.Cplex(\"problema.lp\")\n",
    "#cpx = cplex.Cplex(\"problema.mps\")\n",
    "\n",
    "# Resolver el problema\n",
    "cpx.solve()\n",
    "\n",
    "# Obtener el estado de la solución\n",
    "solucion_status = cpx.solution.get_status_string()\n",
    "print(\"Estado de la solución:\", solucion_status)\n",
    "\n",
    "# Si la solución es óptima, obtener los valores de las variables y el valor de la función objetivo\n",
    "if solucion_status == \"optimal\":\n",
    "    # Obtener los valores de las variables\n",
    "    variables = cpx.solution.get_values()\n",
    "    for i, val in enumerate(variables):\n",
    "        print(f\"Variable {i}: {val}\")\n",
    "\n",
    "    # Obtener el valor de la función objetivo\n",
    "    valor_objetivo = cpx.solution.get_objective_value()\n",
    "    print(\"Valor objetivo:\", valor_objetivo)\n",
    "\n"
   ]
  },
  {
   "cell_type": "code",
   "execution_count": null,
   "metadata": {},
   "outputs": [],
   "source": []
  }
 ],
 "metadata": {
  "kernelspec": {
   "display_name": "Python 3",
   "language": "python",
   "name": "python3"
  },
  "language_info": {
   "codemirror_mode": {
    "name": "ipython",
    "version": 3
   },
   "file_extension": ".py",
   "mimetype": "text/x-python",
   "name": "python",
   "nbconvert_exporter": "python",
   "pygments_lexer": "ipython3",
   "version": "3.10.0"
  }
 },
 "nbformat": 4,
 "nbformat_minor": 2
}
