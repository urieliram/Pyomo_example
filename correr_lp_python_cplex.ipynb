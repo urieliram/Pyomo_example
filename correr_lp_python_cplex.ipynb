{
 "cells": [
  {
   "cell_type": "code",
   "execution_count": 1,
   "metadata": {},
   "outputs": [
    {
     "name": "stdout",
     "output_type": "stream",
     "text": [
      "Version identifier: 22.1.1.0 | 2023-06-15 | d64d5bd77\n",
      "CPXPARAM_Read_DataCheck                          1\n",
      "Tried aggregator 1 time.\n",
      "LP Presolve eliminated 5 rows and 2 columns.\n",
      "All rows and columns eliminated.\n",
      "Presolve time = 0.00 sec. (0.00 ticks)\n",
      "Estado de la solución: optimal\n"
     ]
    }
   ],
   "source": [
    "import cplex\n",
    "\n",
    "# Crear una instancia de Cplex con el archivo LP\n",
    "# cpx = cplex.Cplex(\"problema.lp\")\n",
    "# cpx = cplex.Cplex(\"problema.mps\")\n",
    "\n",
    "cpx = cplex.Cplex(\"ejemplo_bb.lp\")\n",
    "\n",
    "# Resolver el problema\n",
    "cpx.solve()\n",
    "\n",
    "# Obtener el estado de la solución\n",
    "solucion_status = cpx.solution.get_status_string()\n",
    "print(\"Estado de la solución:\", solucion_status)"
   ]
  },
  {
   "cell_type": "code",
   "execution_count": 2,
   "metadata": {},
   "outputs": [
    {
     "name": "stdout",
     "output_type": "stream",
     "text": [
      "x_1: 0.0\n",
      "x_2: 3.0\n",
      "Valor objetivo: 12.0\n"
     ]
    }
   ],
   "source": [
    "\n",
    "# Si la solución es óptima, obtener los valores de las variables y el valor de la función objetivo\n",
    "if solucion_status == \"integer optimal solution\" or solucion_status == \"optimal\":\n",
    "    # Obtener los valores de las variables\n",
    "    variables = cpx.solution.get_values()\n",
    "    for i, val in enumerate(variables):\n",
    "        print(f\"x_{i+1}: {val}\")\n",
    "\n",
    "    # Obtener el valor de la función objetivo\n",
    "    valor_objetivo = cpx.solution.get_objective_value()\n",
    "    print(\"Valor objetivo:\", valor_objetivo)\n"
   ]
  }
 ],
 "metadata": {
  "kernelspec": {
   "display_name": "Python 3",
   "language": "python",
   "name": "python3"
  },
  "language_info": {
   "codemirror_mode": {
    "name": "ipython",
    "version": 3
   },
   "file_extension": ".py",
   "mimetype": "text/x-python",
   "name": "python",
   "nbconvert_exporter": "python",
   "pygments_lexer": "ipython3",
   "version": "3.11.5"
  }
 },
 "nbformat": 4,
 "nbformat_minor": 2
}
