{
 "cells": [
  {
   "cell_type": "code",
   "execution_count": 7,
   "metadata": {},
   "outputs": [
    {
     "name": "stdout",
     "output_type": "stream",
     "text": [
      "Set parameter WLSAccessID\n",
      "Set parameter WLSSecret\n",
      "Set parameter LicenseID to value 2494213\n",
      "WLS license 2494213 - registered to INEEL\n",
      "Read LP format model from file LP_AUHE_hibrido.lp\n",
      "Reading time = 12.72 seconds\n",
      "obj1: 844375 rows, 2457624 columns, 44197926 nonzeros\n",
      "Set parameter TimeLimit to value 2500\n",
      "Set parameter MIPGap to value 1e-05\n",
      "Set parameter LogFile to value \"log.txt\"\n",
      "Set parameter Presolve to value 2\n",
      "Set parameter Method to value 0\n",
      "Set parameter Cuts to value 2\n",
      "Set parameter MIPFocus to value 1\n",
      "Gurobi Optimizer version 11.0.1 build v11.0.1rc0 (linux64 - \"Ubuntu 22.10\")\n",
      "\n",
      "CPU model: 11th Gen Intel(R) Core(TM) i7-11700 @ 2.50GHz, instruction set [SSE2|AVX|AVX2|AVX512]\n",
      "Thread count: 8 physical cores, 8 logical processors, using up to 8 threads\n",
      "\n"
     ]
    },
    {
     "ename": "GurobiError",
     "evalue": "Model too large for size-limited license; visit https://gurobi.com/unrestricted for more information",
     "output_type": "error",
     "traceback": [
      "\u001b[0;31m---------------------------------------------------------------------------\u001b[0m",
      "\u001b[0;31mGurobiError\u001b[0m                               Traceback (most recent call last)",
      "Cell \u001b[0;32mIn[7], line 46\u001b[0m\n\u001b[1;32m     43\u001b[0m model\u001b[38;5;241m.\u001b[39mParams\u001b[38;5;241m.\u001b[39mMIPFocus \u001b[38;5;241m=\u001b[39m \u001b[38;5;241m1\u001b[39m  \u001b[38;5;66;03m# Enfoque de optimización de MIP (0: equilibrado, 1: factibilidad, 2: optimality, 3: optimalidad e integralidad)\u001b[39;00m\n\u001b[1;32m     44\u001b[0m \u001b[38;5;66;03m# model.Params.Threads = 4  # Número de subprocesos utilizados por Gurobi\u001b[39;00m\n\u001b[0;32m---> 46\u001b[0m \u001b[43mmodel\u001b[49m\u001b[38;5;241;43m.\u001b[39;49m\u001b[43moptimize\u001b[49m\u001b[43m(\u001b[49m\u001b[43m)\u001b[49m\n\u001b[1;32m     47\u001b[0m \u001b[38;5;66;03m# Obtener resultados\u001b[39;00m\n\u001b[1;32m     48\u001b[0m \u001b[38;5;28mprint\u001b[39m(\u001b[38;5;124m\"\u001b[39m\u001b[38;5;124mSolución óptima:\u001b[39m\u001b[38;5;124m\"\u001b[39m)\n",
      "File \u001b[0;32msrc/gurobipy/model.pxi:893\u001b[0m, in \u001b[0;36mgurobipy.Model.optimize\u001b[0;34m()\u001b[0m\n",
      "\u001b[0;31mGurobiError\u001b[0m: Model too large for size-limited license; visit https://gurobi.com/unrestricted for more information"
     ]
    }
   ],
   "source": [
    "import gurobipy as gp\n",
    "\n",
    "# Put any connection parameters for Gurobi Compute Server, Gurobi Cluster\n",
    "# Manager or Gurobi Token server here, unless they are set already\n",
    "# through the license file.\n",
    "\n",
    "connection_params = {\n",
    "    \"WLSACCESSID\":\"e5323236-8b4e-4197-9183-93924a52c2c40\",\n",
    "    \"WLSSECRET\":\"5704ed6e-5c8b-4511-b87f-42b3b33dba360\",\n",
    "    \"LICENSEID\":24942130\n",
    "    # For Compute Server you need at least this\n",
    "    #       \"ComputeServer\": \"<server name>\",\n",
    "    #       \"UserName\": \"<user name>\",\n",
    "    #       \"ServerPassword\": \"<password>\",\n",
    "    # For Cluster Manager you need at least this\n",
    "    #       \"CSManager\": \"<manager name>\",\n",
    "    #       \"CSAPIAccessID\": \"<access ID>\",\n",
    "    #       \"CSAPISecret\": \"<secret>\",\n",
    "    # For Instant cloud you need at least this\n",
    "    #       \"CloudAccessID\": \"<access id>\",\n",
    "    #       \"CloudSecretKey\": \"<secret>\",\n",
    "}\n",
    "\n",
    "with gp.Env(params=connection_params) as env:\n",
    "    # 'env' is now set up according to the connection parameters.\n",
    "    # The environment is disposed of automatically through the context manager\n",
    "    # upon leaving this block.\n",
    "    with gp.Model(env=env) as model:\n",
    "        # 'model' is now an instance tied to the enclosing Env object 'env'.\n",
    "        # The model is disposed of automatically through the context manager\n",
    "        # upon leaving this block.\n",
    "        try:\n",
    "            # Crear el objeto modelo\n",
    "            model = gp.read(\"LP_AUHE_hibrido.lp\")\n",
    "\n",
    "            # Modificar parámetros del solver\n",
    "            model.Params.TimeLimit = 2500  # Límite de tiempo de solver en segundos\n",
    "            model.Params.MIPGap = 0.00001  # Tolerancia de brecha de optimalidad del MIP\n",
    "            model.Params.LogFile = \"log.txt\"  # Archivo de registro de Gurobi\n",
    "            model.Params.Presolve = 2  # Nivel de presolución (0: desactivado, 1: presolución básica, 2: presolución agresiva)\n",
    "            model.Params.Method = 0  # Método de resolución (0: automático, 1: primal simplex, 2: dual simplex, 3: barrier, 4: concurrent)\n",
    "            model.Params.Cuts = 2  # Generación de cortes (0: desactivado, 1: cortes sólo lineales, 2: cortes generales)\n",
    "            model.Params.MIPFocus = 1  # Enfoque de optimización de MIP (0: equilibrado, 1: factibilidad, 2: optimality, 3: optimalidad e integralidad)\n",
    "            # model.Params.Threads = 4  # Número de subprocesos utilizados por Gurobi\n",
    "            \n",
    "            model.optimize()\n",
    "            # Obtener resultados\n",
    "            print(\"Solución óptima:\")\n",
    "            for variable in model.getVars():\n",
    "                print(f\"{variable.varName} = {variable.x}\")\n",
    "\n",
    "            print(f\"Valor óptimo: {model.objVal}\")\n",
    "        except:\n",
    "            # Add appropriate error handling here.\n",
    "            raise\n"
   ]
  }
 ],
 "metadata": {
  "kernelspec": {
   "display_name": "Python 3",
   "language": "python",
   "name": "python3"
  },
  "language_info": {
   "codemirror_mode": {
    "name": "ipython",
    "version": 3
   },
   "file_extension": ".py",
   "mimetype": "text/x-python",
   "name": "python",
   "nbconvert_exporter": "python",
   "pygments_lexer": "ipython3",
   "version": "3.10.7"
  }
 },
 "nbformat": 4,
 "nbformat_minor": 2
}
