{
 "cells": [
  {
   "cell_type": "markdown",
   "metadata": {},
   "source": [
    "# Ejemplo de uso de Pyomo para resolver un problema de despacho económico"
   ]
  },
  {
   "cell_type": "code",
   "execution_count": null,
   "metadata": {},
   "outputs": [],
   "source": [
    "from pyomo.environ import Suffix, value\n",
    "from pyomo.opt import SolverStatus, TerminationCondition, SolverFactory"
   ]
  },
  {
   "cell_type": "markdown",
   "metadata": {},
   "source": [
    "**Conjuntos**\n",
    "-  $N$ : Conjunto de nodos (indice $n$, $m$).\n",
    "-  $J$ : Conjunto de unidades generadoras, (indice $j$).\n",
    "-  $(n,m) \\in E$ : Conjunto de ramas eléctricas o líneas de transmisión que se conectan entre los nodos $n$ y $m$.\n",
    "-  $(j,n) \\in E$ : Conjunto de unidades $j$ asociadas a nodo $n$.\n",
    "\n",
    "**Parámetros**\n",
    "-  $c_j$ : Costo de operación de la unidad generadora \\( $j$ \\).\n",
    "-  $De_n$ : Demanda en el nodo \\( $n$ \\).\n",
    "-  $P_j^\\text{min}$ : Capacidad mínima de generación para la unidad generadora \\( $j$ \\).\n",
    "-  $P_j^\\text{max}$ : Capacidad máxima de generación para la unidad generadora \\( $j$ \\).\n",
    "-  $B_{n,m}$ Susceptancia de la línea $(𝑛,𝑚)$\n",
    "-  $Y_{n,m}^\\text{max}$ Capacidad de transporte máxima de la línea $(𝑛,𝑚)$\n",
    "\n",
    "**Variables de decisión**\n",
    "-  $p_{j}$ : Generación de la unidad \\( $j$ \\) en el intervalo \\( $t$ \\).\n",
    "-  $\\delta_{n}$ : Ángulo de voltaje en el nodo \\( $n$ \\).\n",
    "\n",
    "**model**\n",
    "\\begin{align*}\n",
    "\\text{Min} \\quad & \\sum_{j\\in J} c_{j} p_{jt} \\\\\n",
    "\\text{Sujeto a:} \\quad & \\delta_{1} = 0 \\\\\n",
    "& y_{n,m} = B_{n,m} (\\delta_n - \\delta_m), &  (n,m) \\in E\\\\\n",
    "& \\sum_{i \\in J: (j,n) \\in JN}  p_{j} = De_{n} + \\sum_{m \\in N:(n,m) \\in E} y_{n,m} & n\\in N \\\\\n",
    "& -Y_{nm}^\\text{max} \\leq y_{nm} \\leq Y_{nm}^\\text{max} & (n,m)\\in E \\\\\n",
    "& P_{j}^\\text{min} \\leq p_{j} \\leq P_{j}^\\text{max} & j\\in J \\\\\n",
    "& p_{j} \\geq 0\n",
    "\\end{align*}\n",
    "\n",
    "model extraido de: \n",
    "E. Castillo, A. J. Conejo, P. Pedregal, R. García y N. Alguacil (2002). Formulación y Resolución de Modelos de Programación Matemática en Ingeniería y Ciencia. Ciudad Real, España, 2002."
   ]
  },
  {
   "cell_type": "code",
   "execution_count": null,
   "metadata": {},
   "outputs": [],
   "source": [
    "#Conjuntos\n",
    "N    = {1,2,3}\n",
    "J    = {1,2}\n",
    "E    = { (1,2),(2,3),(3,1),(2,1),(3,2),(1,3) }\n",
    "JN   = { (1,1),(2,2) }\n",
    "\n",
    "# Parámetros\n",
    "Pmin = {1: 0.15, 2: 0.10}  # Potencia mínima del generador\n",
    "Pmax = {1: 0.60, 2: 0.40}  # Potencia máxima del generador\n",
    "c = {1: 6.00, 2: 7.00}     # Costo de la unidad generadora\n",
    "De = {1: 0.0, 2: 0.0, 3: 0.85}        # Demanda en el nodo\n",
    "\n",
    "B = { # La susceptancia de la rama E en (1/ohms)\n",
    "    (1, 2): 2.5, (1, 3): 3.5,\n",
    "    (2, 1): 2.5, (2, 3): 3.0,\n",
    "    (3, 1): 3.5, (3, 2): 3.0\n",
    "}\n",
    "\n",
    "Y = { # La capacidad de flujo máximo de la rama E en MW\n",
    "    (1, 2): 0.3, (1, 3): 0.5,\n",
    "    (2, 1): 0.3, (2, 3): 0.4,\n",
    "    (3, 1): 0.5, (3, 2): 0.4\n",
    "}"
   ]
  },
  {
   "cell_type": "code",
   "execution_count": null,
   "metadata": {},
   "outputs": [],
   "source": [
    "# importaciones de librerias\n",
    "from pyomo.environ import *\n",
    "\n",
    "# Aqui se define el model\n",
    "def construir_modelo():\n",
    "\n",
    "    # Crear un model\n",
    "    model = ConcreteModel()\n",
    "    \n",
    "    # Definir conjuntos\n",
    "    model.J = Set(initialize=J)  # Unidades generadoras\n",
    "    model.N = Set(initialize=N)  # Nodos eléctricos\n",
    "    model.E = Set(initialize=E, within=model.N * model.N)    # Ramas eléctricas\n",
    "    model.JN = Set(initialize=JN, within=model.J * model.N)  # Unidades asociadas a nodos\n",
    "    \n",
    "    # Parámetros\n",
    "    model.Pmin = Param(model.J, initialize=Pmin)  # Potencia mínima del generador\n",
    "    model.Pmax = Param(model.J, initialize=Pmax)  # Potencia máxima del generador\n",
    "    model.c = Param(model.J, initialize=c)    # Costo de la unidad generadora\n",
    "    model.De = Param(model.N, initialize=De)  # Demanda en el nodo\n",
    "\n",
    "    # Parámetros de susceptancia y capacidad de flujo máximo\n",
    "    model.B = Param(model.E, initialize=B)  \n",
    "    model.Y = Param(model.E, initialize=Y)  \n",
    "    \n",
    "    # Variables\n",
    "    model.p = Var(model.J, within=NonNegativeReals)  # Generación de las unidades generadoras\n",
    "    model.y = Var(model.E, within=Reals)  # Flujo en las ramas\n",
    "    model.delta = Var(model.N, within=Reals)  # Ángulo de voltaje en los nodos\n",
    "    \n",
    "    # Función objetivo\n",
    "    def obj_rule(model):\n",
    "        return sum(model.c[j] * model.p[j] for j in model.J)\n",
    "    model.obj = Objective(rule=obj_rule, sense=minimize)\n",
    "\n",
    "    # Restricciones\n",
    "    \n",
    "    def flow(model, n, m):\n",
    "        return model.y[n, m] == model.B[n, m] * (model.delta[n] - model.delta[m])\n",
    "    model.flow = Constraint(model.E, rule=flow)\n",
    "\n",
    "    def balance(model, n):\n",
    "        return sum(model.p[j] for j, m in model.JN if m == n) == \\\n",
    "                model.De[n] + sum(model.y[n, m] for m in model.N if (n, m) in model.E)\n",
    "    model.balance = Constraint(model.N, rule=balance)\n",
    "\n",
    "    def flow_limit(model, n, m):\n",
    "        return model.y[n, m] <= model.Y[n, m]\n",
    "    model.flow_limit = Constraint(model.E, rule=flow_limit)\n",
    "    \n",
    "    def generation_limit_min(model, j):\n",
    "        return model.Pmin[j] <= model.p[j]\n",
    "    model.generation_limit_min = Constraint(model.J, rule=generation_limit_min)\n",
    "\n",
    "    def generation_limit_max(model, j):\n",
    "        return model.p[j] <= model.Pmax[j]\n",
    "    model.generation_limit_max = Constraint(model.J, rule=generation_limit_max)\n",
    "\n",
    "    def slack_node(model):\n",
    "        return model.delta[3] == 0\n",
    "    model.slack_node = Constraint(rule=slack_node)\n",
    "    \n",
    "    model.pprint()\n",
    "    return model"
   ]
  },
  {
   "cell_type": "code",
   "execution_count": null,
   "metadata": {},
   "outputs": [],
   "source": [
    "model = construir_modelo()\n",
    "# Create a 'rc' suffix component on the instance so the solver plugin will know which suffixes to collect\n",
    "model.rc   = Suffix(direction=Suffix.IMPORT,datatype=Suffix.FLOAT)\n",
    "model.dual = Suffix(direction=Suffix.IMPORT,datatype=Suffix.FLOAT)\n",
    "SolverFactory('cplex', executable='C:/ILOG/CPLEX_Studio129/cplex/bin/x64_win64/cplex').solve(model).write()\n",
    "\n",
    "model.pprint() \n",
    "print('\\n z = ', model.obj())"
   ]
  },
  {
   "cell_type": "code",
   "execution_count": null,
   "metadata": {},
   "outputs": [],
   "source": [
    "## Escribir el modelo en formato LP\n",
    "model.write(\"problema.lp\", io_options={'symbolic_solver_labels':True})\n",
    "\n",
    "## Escribir el modelo en formato MPS\n",
    "model.write(\"problema.mps\" , io_options = {'symbolic_solver_labels':True})"
   ]
  },
  {
   "cell_type": "code",
   "execution_count": null,
   "metadata": {},
   "outputs": [],
   "source": [
    "model.rc.pprint()"
   ]
  },
  {
   "cell_type": "code",
   "execution_count": null,
   "metadata": {},
   "outputs": [],
   "source": [
    "model.dual.pprint()"
   ]
  },
  {
   "cell_type": "markdown",
   "metadata": {},
   "source": [
    "![alt text](image-1.png)"
   ]
  },
  {
   "cell_type": "markdown",
   "metadata": {},
   "source": []
  }
 ],
 "metadata": {
  "kernelspec": {
   "display_name": "Python 3",
   "language": "python",
   "name": "python3"
  },
  "language_info": {
   "codemirror_mode": {
    "name": "ipython",
    "version": 3
   },
   "file_extension": ".py",
   "mimetype": "text/x-python",
   "name": "python",
   "nbconvert_exporter": "python",
   "pygments_lexer": "ipython3",
   "version": "3.10.0"
  }
 },
 "nbformat": 4,
 "nbformat_minor": 2
}
