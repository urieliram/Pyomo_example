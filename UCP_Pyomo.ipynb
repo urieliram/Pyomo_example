{
  "nbformat": 4,
  "nbformat_minor": 0,
  "metadata": {
    "colab": {
      "provenance": [],
      "authorship_tag": "ABX9TyNldcAjVfc1jTWKSMTdaqhb",
      "include_colab_link": true
    },
    "kernelspec": {
      "name": "python3",
      "display_name": "Python 3"
    },
    "language_info": {
      "name": "python"
    }
  },
  "cells": [
    {
      "cell_type": "markdown",
      "metadata": {
        "id": "view-in-github",
        "colab_type": "text"
      },
      "source": [
        "<a href=\"https://colab.research.google.com/github/urieliram/Pyomo_example/blob/main/UCP_Pyomo.ipynb\" target=\"_parent\"><img src=\"https://colab.research.google.com/assets/colab-badge.svg\" alt=\"Open In Colab\"/></a>"
      ]
    },
    {
      "cell_type": "markdown",
      "source": [
        "## Ejemplo básico de uso de Pyomo para resolver un problema de Unit commitment de juguete"
      ],
      "metadata": {
        "id": "y-elw5ViDfc3"
      }
    },
    {
      "cell_type": "code",
      "execution_count": 1,
      "metadata": {
        "id": "yo5mHJqEfO5W"
      },
      "outputs": [],
      "source": [
        "!pip install -q pyomo\n",
        "!apt-get install -y -qq glpk-utils\n",
        "!apt-get install -y -qq coinor-cbc"
      ]
    },
    {
      "cell_type": "markdown",
      "source": [
        "\\begin{align*}\n",
        "\\text{Min} \\quad & \\sum_{t\\in G} \\sum_{j\\in J} ( c_{j} p_{jt} + c_{j}^\\text{U} y_{jt}) \\\\\n",
        "\\text{Sujeto a:} \\quad & \\sum_{j\\in J} p_{jt} = De_{t}, & t \\in G \\\\\n",
        "& \\sum_{j\\in J} \\bar{p}_{jt} \\geq De_{t} + R_{t}, &  t \\in G\\\\\n",
        "& c_{j}p_{jt} \\geq \\alpha_{js} p_{jt} + \\beta_{js}, & s=\\{1,…,C_j\\}, j \\in J \\\\\n",
        "& v_{j,t-1} - v_{jt} + y_{jt} - z_{jt} = 0 & j\\in J, t \\in G  \\\\\n",
        "& p_{jt} - p_{j,t-1} \\leq R_{j}^\\text{U} v_{j,t-1} + S_{j}^\\text{U} y_{jt} & j\\in J, t \\in G  \\\\\n",
        "& p_{j,t-1} - p_{jt} \\leq R_{j}^\\text{D} v_{j,t} + S_{j}^\\text{D} z_{jt} & j\\in J, t \\in G  \\\\\n",
        "& \\sum_{k=t-T_{j}^{U}+1,k \\geq 1}^{t} y_{jk} \\leq v_{jt} & j\\in J, t\\in \\{L_{j}+1,...,|G|\\} \\\\\n",
        "& v_{jt}+\\sum_{k=t-T_{j}^{D}+1,k \\geq 1}^{t} z_{jk} \\leq 1 & j\\in J, t\\in \\{F_{j}+1,...,|G|\\} \\\\\n",
        "& P_{j}^{\\text{min}} v_{jt} \\leq p_{jt} \\leq \\bar{p}_{jt} \\leq P_{j}^{\\text{max}} v_{jt} & j\\in J, t \\in G  \\\\\n",
        "& \\bar{p}_{jt} \\leq p_{j,t-1} + R_{j}^{\\text{U}} v_{j,t-1} + S_{j}^{\\text{U}} Y_{jt} & j\\in J, t \\in G  \\\\\n",
        "& \\bar{p}_{jt} \\leq P_{j}^{\\text{max}} (v_{jt}-z_{j,t+1})+ z_{j,t+1} S_{j}^{\\text{D}} & j\\in J, t =\\{1,2,...,|G|-1\\} \\\\\n",
        "& P_{jt}, \\bar{jt} \\geq 0 \\\\\n",
        "& v_{jt}, y_{jt}, z_{jt} = \\{0,1\\} \\\\\n",
        " \\quad \\text{donde:}  \\\\\n",
        "& L_{j} = min(U_{j},|T|) \\\\\n",
        "& F_{j} = min(D_{j},|T|)\n",
        "\\end{align*}\n",
        "\n",
        "\n",
        "\n",
        "Unit Commitment in Electric Energy Systems. M. F. Anjos and A. J. Conejo.  Foundations and Trends in Electric Energy Systems. Vol. 1, No. 4, 220--310 , 2017"
      ],
      "metadata": {
        "id": "jnGsurAVD2Q4"
      }
    },
    {
      "cell_type": "code",
      "source": [
        "T    = {1,2,3,4,5,6}\n",
        "G    = {1,2,3}\n",
        "# C    = {1}\n",
        "Pmax = {1: 300, 2: 200, 3: 100}\n",
        "Pmin = {1: 80, 2: 50, 3: 30}\n",
        "cU   = {1: 800, 2: 500, 3: 250}\n",
        "c    = {1: 5, 2: 15, 3: 30}\n",
        "De   = {1: 240, 2: 250, 3: 200, 4: 170, 5: 230, 6: 190}\n",
        "R    = {1: 0, 2: 10, 3: 10, 4: 10, 5: 10, 6: 10}\n",
        "RD   = {1: 30, 2: 40, 3: 50}\n",
        "RU   = {1: 50, 2: 60, 3: 70}\n",
        "SU   = {1: 100, 2: 70, 3: 40}\n",
        "SD   = {1: 80, 2: 50, 3: 30}\n",
        "TU   = {1: 3, 2: 2, 3: 1}\n",
        "TD   = {1: 2, 2: 2, 3: 2}\n",
        "U    = {1: 2, 2: 0, 3: 0}\n",
        "D    = {1: 0, 2: 0, 3: 0}\n",
        "v0   = {1: 1, 2: 0, 3: 0}\n",
        "p0   = {1: 120, 2: 0, 3: 0}\n",
        "# alfa = {(1,1): 5, (1,2): 15, (1,3): 30}\n",
        "# beta = {(2,1): 0, (2,2): 0, (2,3): 0}"
      ],
      "metadata": {
        "id": "0AtNKn6RhzmW"
      },
      "execution_count": 2,
      "outputs": []
    },
    {
      "cell_type": "code",
      "source": [
        "from pyomo.environ import *\n",
        "def construir_modelo(LP = False, commit=None):\n",
        "    # Crear un modelo\n",
        "    model      = ConcreteModel()\n",
        "    # Conjuntos\n",
        "    model.G    = Set(initialize = G)\n",
        "    model.T    = Set(initialize = T)\n",
        "    # model.C    = Set(model.G, initialize = C)\n",
        "    # Parametros\n",
        "    model.Pmax  = Param(model.G , initialize = Pmax , within = Any)\n",
        "    model.Pmin  = Param(model.G , initialize = Pmin , within = Any)\n",
        "    model.c     = Param(model.G , initialize = c    , within = Any)\n",
        "    model.cU    = Param(model.G , initialize = cU   , within = Any)\n",
        "    model.De    = Param(model.T , initialize = De   , within = Any)\n",
        "    model.R     = Param(model.T , initialize = R    , within = Any)\n",
        "    model.RU    = Param(model.G , initialize = RU   , within = Any)\n",
        "    model.RD    = Param(model.G , initialize = RD   , within = Any)\n",
        "    model.SU    = Param(model.G , initialize = SU   , within = Any)\n",
        "    model.SD    = Param(model.G , initialize = SD   , within = Any)\n",
        "    model.U     = Param(model.G , initialize = U    , within = Any)\n",
        "    model.D     = Param(model.G , initialize = D    , within = Any)\n",
        "    model.TU    = Param(model.G , initialize = TU   , within = Any)\n",
        "    model.TD    = Param(model.G , initialize = TD   , within = Any)\n",
        "    model.v0    = Param(model.G , initialize = v0   , within = Any)\n",
        "    model.p0    = Param(model.G , initialize = p0   , within = Any)\n",
        "\n",
        "    # model.alfa  = Param(model.G , model.C , initialize = alfa, within = Any)\n",
        "    # model.beta  = Param(model.G , model.C , initialize = beta, within = Any)\n",
        "\n",
        "    # Variables\n",
        "    model.p     = Var( model.G , model.T , bounds = (0.0,99999.0) )\n",
        "    model.pb    = Var( model.G , model.T , bounds = (0.0,99999.0))\n",
        "\n",
        "\n",
        "    if LP == True:\n",
        "        model.v     = Var( model.G , model.T , within = UnitInterval)\n",
        "        model.y     = Var( model.G , model.T , within = UnitInterval)\n",
        "        model.z     = Var( model.G , model.T , within = UnitInterval)\n",
        "    else:\n",
        "        model.v     = Var( model.G , model.T , within = Binary)\n",
        "        model.y     = Var( model.G , model.T , within = Binary)\n",
        "        model.z     = Var( model.G , model.T , within = Binary)\n",
        "\n",
        "    def obj_rule(m):\n",
        "        return sum(( m.c[j] * m.p[j,t] + m.cU[j] * m.y[j,t] ) for t in m.T for j in m.G)\n",
        "    model.obj = Objective(rule = obj_rule,sense=minimize)\n",
        "\n",
        "    def demanda(m,t):\n",
        "        return sum( m.p[j,t] for j in m.G ) == m.De[t]\n",
        "    model.demanda = Constraint(model.T, rule = demanda)\n",
        "\n",
        "    def demanda_reserva(m,t):\n",
        "        return sum( m.pb[j,t] for j in m.G ) >= m.De[t] + m.R[t]\n",
        "    model.demanda_reserva = Constraint(model.T, rule = demanda_reserva)\n",
        "\n",
        "    def logical_rule(m,j,t):\n",
        "        if t == 1:\n",
        "            return m.v0[j]    - m.v[j,t] + m.y[j,t] - m.z[j,t] == 0\n",
        "        else:\n",
        "            return m.v[j,t-1] - m.v[j,t] + m.y[j,t] - m.z[j,t] == 0\n",
        "    model.logical_rule = Constraint(model.G,model.T,rule = logical_rule)\n",
        "\n",
        "    def rampas_subida(m,j,t):\n",
        "        if t == 1:\n",
        "            return m.p[j,t] - m.p0[j]    <= m.RU[j] * m.v0[j]    + m.SU[j] * m.y[j,t]\n",
        "        else:\n",
        "            return m.p[j,t] - m.p[j,t-1] <= m.RU[j] * m.v[j,t-1] + m.SU[j] * m.y[j,t]\n",
        "    model.rampas_subida = Constraint(model.G,model.T,rule = rampas_subida)\n",
        "\n",
        "    def rampas_bajada(m,j,t):\n",
        "        if t == 1:\n",
        "            return m.p0[j]    - m.p[j,t] <= m.RD[j] * m.v[j,t] + m.SD[j] * m.z[j,t]\n",
        "        else:\n",
        "            return m.p[j,t-1] - m.p[j,t] <= m.RD[j] * m.v[j,t] + m.SD[j] * m.z[j,t]\n",
        "    model.rampas_bajada = Constraint(model.G,model.T,rule = rampas_bajada)\n",
        "\n",
        "    def tiempo_min_encendido(m,j,t):\n",
        "        Lj = min( m.U[j],len(m.T) )\n",
        "        if t >= Lj + 1:\n",
        "            return sum( m.y[j,k] for k in range(t-m.TU[j]+1,t) if k>=1) <= m.v[ j , t ]\n",
        "        else:\n",
        "            return Constraint.Skip\n",
        "    model.tiempo_min_encendido = Constraint(model.G,model.T,rule = tiempo_min_encendido)\n",
        "\n",
        "    def tiempo_min_apagado(m,j,t):\n",
        "        Fj = min( m.D[j],len(m.T) )\n",
        "        if t >= Fj + 1:\n",
        "            return m.v[j,t] + sum( m.z[j,k] for k in range(t-m.TD[j]+1,t) if k>=1) <= 1\n",
        "        else:\n",
        "            return Constraint.Skip\n",
        "    model.tiempo_min_apagado = Constraint(model.G,model.T,rule = tiempo_min_apagado)\n",
        "\n",
        "    def limite_gen_uno(m,j,t):\n",
        "        return m.Pmin[j] * m.v[j,t] <= m.p[j,t]\n",
        "    model.limite_gen_uno = Constraint(model.G,model.T,rule = limite_gen_uno)\n",
        "\n",
        "    def limite_gen_dos(m,j,t):\n",
        "        return m.p[j,t] <= m.pb[j,t]\n",
        "    model.limite_gen_dos = Constraint(model.G,model.T,rule = limite_gen_dos)\n",
        "\n",
        "    def Limite_gen_tres(m,j,t):\n",
        "        return m.pb[j,t] <= m.Pmax[j] * m.v[j,t]\n",
        "    model.Limite_gen_tres = Constraint(model.G,model.T,rule = Limite_gen_tres)\n",
        "\n",
        "    def limite_arranque(m,j,t): # ++++++\n",
        "        if t == 1:\n",
        "            return m.pb[j,t] <= m.p0[j]    + m.RU[j] * m.v0[j]    + m.SU[j] * m.y[j,t]\n",
        "        else:\n",
        "            return m.pb[j,t] <= m.p[j,t-1] + m.RU[j] * m.v[j,t-1] + m.SU[j] * m.y[j,t]\n",
        "    model.limite_arranque = Constraint(model.G,model.T,rule = limite_arranque)\n",
        "\n",
        "    def limite_apagado(m,j,t):\n",
        "        if t == len(m.T):\n",
        "            return Constraint.Skip\n",
        "        else:\n",
        "            return m.pb[j,t] <= m.Pmax[j] * ( m.v[j,t] - m.z[j,t+1] ) + m.z[j,t+1] * m.SD[j]\n",
        "    model.limite_apagado = Constraint(model.G,model.T,rule = limite_apagado)\n",
        "\n",
        "    if commit:\n",
        "      print(\"FIJANDO SOLUCIÓN ENTERA\")\n",
        "    # model.p[1,1].fix(150) ## Hard fixing\n",
        "      for key, value in commit.items():\n",
        "        g, t = key\n",
        "        model.v[g, t].fix(value)\n",
        "\n",
        "# model.pprint() ## Se imprime el modelo\n",
        "    return model"
      ],
      "metadata": {
        "id": "S1P7rZBaulGt"
      },
      "execution_count": 3,
      "outputs": []
    },
    {
      "cell_type": "code",
      "source": [
        "model = construir_modelo(LP=False)\n",
        "SolverFactory('cbc', executable='/usr/bin/cbc').solve(model) #.write()\n",
        "SolverFactory('cbc', executable='/usr/bin/cbc').solve(model) #.write()\n",
        "print('\\n z = ', model.obj())"
      ],
      "metadata": {
        "id": "4lcjnWwQfT88",
        "colab": {
          "base_uri": "https://localhost:8080/"
        },
        "outputId": "7892f6b3-d35f-46f1-9cc5-150596e9dadd"
      },
      "execution_count": 4,
      "outputs": [
        {
          "output_type": "stream",
          "name": "stderr",
          "text": [
            "WARNING:pyomo.core:Initializing ordered Set G with a fundamentally unordered data source (type: set).  This WILL potentially lead to nondeterministic behavior in Pyomo\n",
            "WARNING:pyomo.core:Initializing ordered Set T with a fundamentally unordered data source (type: set).  This WILL potentially lead to nondeterministic behavior in Pyomo\n"
          ]
        },
        {
          "output_type": "stream",
          "name": "stdout",
          "text": [
            "\n",
            " z =  9100.0\n"
          ]
        }
      ]
    },
    {
      "cell_type": "code",
      "source": [
        "model.rc   = Suffix(direction=Suffix.IMPORT,datatype=Suffix.FLOAT)\n",
        "model.dual = Suffix(direction=Suffix.IMPORT,datatype=Suffix.FLOAT)\n",
        "\n",
        "# Llenar el diccionario con los valores de las variables de asignación\n",
        "commit = {}\n",
        "for g in G:\n",
        "    for t in T:\n",
        "        commit[(g, t)] = model.v[g, t].value\n",
        "\n",
        "print(commit)\n",
        "\n",
        "model = construir_modelo(LP=True, commit = commit)\n",
        "SolverFactory('glpk', executable='/usr/bin/glpsol').solve(model) #.write()\n",
        "print('\\n z = ', model.obj())"
      ],
      "metadata": {
        "id": "ytMYRP12Jn30",
        "outputId": "4951153f-9c63-4374-bd66-6ae2835eac18",
        "colab": {
          "base_uri": "https://localhost:8080/"
        }
      },
      "execution_count": 5,
      "outputs": [
        {
          "output_type": "stream",
          "name": "stderr",
          "text": [
            "WARNING:pyomo.core:Initializing ordered Set G with a fundamentally unordered data source (type: set).  This WILL potentially lead to nondeterministic behavior in Pyomo\n",
            "WARNING:pyomo.core:Initializing ordered Set T with a fundamentally unordered data source (type: set).  This WILL potentially lead to nondeterministic behavior in Pyomo\n"
          ]
        },
        {
          "output_type": "stream",
          "name": "stdout",
          "text": [
            "{(1, 1): 1.0, (1, 2): 1.0, (1, 3): 1.0, (1, 4): 1.0, (1, 5): 1.0, (1, 6): 1.0, (2, 1): 1.0, (2, 2): 1.0, (2, 3): 0.0, (2, 4): 0.0, (2, 5): 0.0, (2, 6): 0.0, (3, 1): 0.0, (3, 2): 0.0, (3, 3): 0.0, (3, 4): 0.0, (3, 5): 1.0, (3, 6): 0.0}\n",
            "FIJANDO SOLUCIÓN ENTERA\n",
            "\n",
            " z =  9100.0\n"
          ]
        }
      ]
    },
    {
      "cell_type": "code",
      "source": [
        "print( model.dual[model.u[1,1]] )\n"
      ],
      "metadata": {
        "id": "NQmnJNKZOb6J",
        "outputId": "4aef38a3-4831-4d5e-eda4-7125dec03b68",
        "colab": {
          "base_uri": "https://localhost:8080/",
          "height": 297
        }
      },
      "execution_count": 6,
      "outputs": [
        {
          "output_type": "error",
          "ename": "AttributeError",
          "evalue": "'ConcreteModel' object has no attribute 'dual'",
          "traceback": [
            "\u001b[0;31m---------------------------------------------------------------------------\u001b[0m",
            "\u001b[0;31mAttributeError\u001b[0m                            Traceback (most recent call last)",
            "\u001b[0;32m<ipython-input-6-4ba1cdb16524>\u001b[0m in \u001b[0;36m<cell line: 1>\u001b[0;34m()\u001b[0m\n\u001b[0;32m----> 1\u001b[0;31m \u001b[0mprint\u001b[0m\u001b[0;34m(\u001b[0m \u001b[0mmodel\u001b[0m\u001b[0;34m.\u001b[0m\u001b[0mdual\u001b[0m\u001b[0;34m[\u001b[0m\u001b[0mmodel\u001b[0m\u001b[0;34m.\u001b[0m\u001b[0mu\u001b[0m\u001b[0;34m[\u001b[0m\u001b[0;36m1\u001b[0m\u001b[0;34m,\u001b[0m\u001b[0;36m1\u001b[0m\u001b[0;34m]\u001b[0m\u001b[0;34m]\u001b[0m \u001b[0;34m)\u001b[0m\u001b[0;34m\u001b[0m\u001b[0;34m\u001b[0m\u001b[0m\n\u001b[0m",
            "\u001b[0;32m/usr/local/lib/python3.10/dist-packages/pyomo/core/base/block.py\u001b[0m in \u001b[0;36m__getattr__\u001b[0;34m(self, val)\u001b[0m\n\u001b[1;32m    557\u001b[0m         \u001b[0;31m# Since the base classes don't support getattr, we can just\u001b[0m\u001b[0;34m\u001b[0m\u001b[0;34m\u001b[0m\u001b[0m\n\u001b[1;32m    558\u001b[0m         \u001b[0;31m# throw the \"normal\" AttributeError\u001b[0m\u001b[0;34m\u001b[0m\u001b[0;34m\u001b[0m\u001b[0m\n\u001b[0;32m--> 559\u001b[0;31m         raise AttributeError(\n\u001b[0m\u001b[1;32m    560\u001b[0m             \u001b[0;34m\"'%s' object has no attribute '%s'\"\u001b[0m \u001b[0;34m%\u001b[0m \u001b[0;34m(\u001b[0m\u001b[0mself\u001b[0m\u001b[0;34m.\u001b[0m\u001b[0m__class__\u001b[0m\u001b[0;34m.\u001b[0m\u001b[0m__name__\u001b[0m\u001b[0;34m,\u001b[0m \u001b[0mval\u001b[0m\u001b[0;34m)\u001b[0m\u001b[0;34m\u001b[0m\u001b[0;34m\u001b[0m\u001b[0m\n\u001b[1;32m    561\u001b[0m         )\n",
            "\u001b[0;31mAttributeError\u001b[0m: 'ConcreteModel' object has no attribute 'dual'"
          ]
        }
      ]
    },
    {
      "cell_type": "code",
      "source": [
        "from prettytable import PrettyTable\n",
        "\n",
        "# Crear una tabla\n",
        "tabla = PrettyTable()\n",
        "tabla.field_names = ['G', 'T', 'p', 'pb', 'v', 'y', 'z']\n",
        "\n",
        "# Llenar la tabla con los valores de las variables\n",
        "for g in G:\n",
        "    for t in T:\n",
        "        tabla.add_row([g, t, model.p[g, t].value, model.pb[g, t].value,\n",
        "                       model.v[g, t].value, model.y[g, t].value, model.z[g, t].value])\n",
        "\n",
        "# Imprimir la tabla\n",
        "print(tabla)\n"
      ],
      "metadata": {
        "id": "icdRuSvE93ia"
      },
      "execution_count": null,
      "outputs": []
    },
    {
      "cell_type": "code",
      "source": [],
      "metadata": {
        "id": "BDN7tESvDch_"
      },
      "execution_count": null,
      "outputs": []
    },
    {
      "cell_type": "markdown",
      "source": [],
      "metadata": {
        "id": "3amKRn5MDeHQ"
      }
    }
  ]
}