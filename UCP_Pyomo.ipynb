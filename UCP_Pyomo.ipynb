{
  "nbformat": 4,
  "nbformat_minor": 0,
  "metadata": {
    "colab": {
      "provenance": [],
      "authorship_tag": "ABX9TyPHg+nSdu2XOlTWCwWxfYcN",
      "include_colab_link": true
    },
    "kernelspec": {
      "name": "python3",
      "display_name": "Python 3"
    },
    "language_info": {
      "name": "python"
    }
  },
  "cells": [
    {
      "cell_type": "markdown",
      "metadata": {
        "id": "view-in-github",
        "colab_type": "text"
      },
      "source": [
        "<a href=\"https://colab.research.google.com/github/urieliram/Pyomo_example/blob/main/UCP_Pyomo.ipynb\" target=\"_parent\"><img src=\"https://colab.research.google.com/assets/colab-badge.svg\" alt=\"Open In Colab\"/></a>"
      ]
    },
    {
      "cell_type": "code",
      "execution_count": 89,
      "metadata": {
        "colab": {
          "base_uri": "https://localhost:8080/"
        },
        "id": "yo5mHJqEfO5W",
        "outputId": "8d9fb852-1d1a-4c73-c6b2-de261e748e3a"
      },
      "outputs": [
        {
          "output_type": "stream",
          "name": "stdout",
          "text": [
            "Selecting previously unselected package coinor-libcoinutils3v5:amd64.\n",
            "(Reading database ... \r(Reading database ... 5%\r(Reading database ... 10%\r(Reading database ... 15%\r(Reading database ... 20%\r(Reading database ... 25%\r(Reading database ... 30%\r(Reading database ... 35%\r(Reading database ... 40%\r(Reading database ... 45%\r(Reading database ... 50%\r(Reading database ... 55%\r(Reading database ... 60%\r(Reading database ... 65%\r(Reading database ... 70%\r(Reading database ... 75%\r(Reading database ... 80%\r(Reading database ... 85%\r(Reading database ... 90%\r(Reading database ... 95%\r(Reading database ... 100%\r(Reading database ... 121874 files and directories currently installed.)\n",
            "Preparing to unpack .../0-coinor-libcoinutils3v5_2.11.4+repack1-2_amd64.deb ...\n",
            "Unpacking coinor-libcoinutils3v5:amd64 (2.11.4+repack1-2) ...\n",
            "Selecting previously unselected package coinor-libosi1v5:amd64.\n",
            "Preparing to unpack .../1-coinor-libosi1v5_0.108.6+repack1-2_amd64.deb ...\n",
            "Unpacking coinor-libosi1v5:amd64 (0.108.6+repack1-2) ...\n",
            "Selecting previously unselected package coinor-libclp1.\n",
            "Preparing to unpack .../2-coinor-libclp1_1.17.5+repack1-1_amd64.deb ...\n",
            "Unpacking coinor-libclp1 (1.17.5+repack1-1) ...\n",
            "Selecting previously unselected package coinor-libcgl1:amd64.\n",
            "Preparing to unpack .../3-coinor-libcgl1_0.60.3+repack1-3_amd64.deb ...\n",
            "Unpacking coinor-libcgl1:amd64 (0.60.3+repack1-3) ...\n",
            "Selecting previously unselected package coinor-libcbc3:amd64.\n",
            "Preparing to unpack .../4-coinor-libcbc3_2.10.7+ds1-1_amd64.deb ...\n",
            "Unpacking coinor-libcbc3:amd64 (2.10.7+ds1-1) ...\n",
            "Selecting previously unselected package coinor-cbc.\n",
            "Preparing to unpack .../5-coinor-cbc_2.10.7+ds1-1_amd64.deb ...\n",
            "Unpacking coinor-cbc (2.10.7+ds1-1) ...\n",
            "Setting up coinor-libcoinutils3v5:amd64 (2.11.4+repack1-2) ...\n",
            "Setting up coinor-libosi1v5:amd64 (0.108.6+repack1-2) ...\n",
            "Setting up coinor-libclp1 (1.17.5+repack1-1) ...\n",
            "Setting up coinor-libcgl1:amd64 (0.60.3+repack1-3) ...\n",
            "Setting up coinor-libcbc3:amd64 (2.10.7+ds1-1) ...\n",
            "Setting up coinor-cbc (2.10.7+ds1-1) ...\n",
            "Processing triggers for man-db (2.10.2-1) ...\n",
            "Processing triggers for libc-bin (2.35-0ubuntu3.4) ...\n",
            "/sbin/ldconfig.real: /usr/local/lib/libtbbbind_2_5.so.3 is not a symbolic link\n",
            "\n",
            "/sbin/ldconfig.real: /usr/local/lib/libtbbbind_2_0.so.3 is not a symbolic link\n",
            "\n",
            "/sbin/ldconfig.real: /usr/local/lib/libtbb.so.12 is not a symbolic link\n",
            "\n",
            "/sbin/ldconfig.real: /usr/local/lib/libtbbmalloc_proxy.so.2 is not a symbolic link\n",
            "\n",
            "/sbin/ldconfig.real: /usr/local/lib/libtbbbind.so.3 is not a symbolic link\n",
            "\n",
            "/sbin/ldconfig.real: /usr/local/lib/libtbbmalloc.so.2 is not a symbolic link\n",
            "\n"
          ]
        }
      ],
      "source": [
        "!pip install -q pyomo\n",
        "!apt-get install -y -qq glpk-utils\n",
        "!apt-get install -y -qq coinor-cbc"
      ]
    },
    {
      "cell_type": "markdown",
      "source": [
        "\\begin{align*}\n",
        "\\text{Min} \\quad & \\sum_{t\\in T} \\sum_{j\\in J} ( c_{j} p_{jt} + c_{j}^\\text{U} y_{jt}) \\\\\n",
        "\\text{Sujeto a:} \\quad & \\sum_{j\\in J} p_{jt} = De_{t}, & t \\in T \\\\\n",
        "& \\sum_{j\\in J} \\bar{p}_{jt} \\geq De_{t} + R_{t}, &  t \\in T\\\\\n",
        "& c_{j}p_{jt} \\geq \\alpha_{js} p_{jt} + \\beta_{js}, & s=1,…C_j, j \\in J \\\\\n",
        "& v_{j,t-1} - v_{jt} + y_{jt} - z_{jt} = 0 & j\\in J, t \\in T  \\\\\n",
        "& p_{jt} - p_{j,t-1} \\leq R_{j}^\\text{U} v_{j,t-1} + S_{j}^\\text{U} y_{jt} & j\\in J, t \\in T  \\\\\n",
        "& p_{j,t-1} - p_{jt} \\leq R_{j}^\\text{D} v_{j,t} + S_{j}^\\text{D} z_{jt} & j\\in J, t \\in T  \\\\\n",
        "& \\sum_{k=t-T_{j}^{U}+1,k \\geq 1}^{t} y_{jk} \\leq v_{jt} & j\\in J, t\\in [L_{j}+1,...,|T|] \\\\\n",
        "& v_{jt}+\\sum_{k=t-T_{j}^{D}+1,k \\geq 1}^{t} z_{jk} \\leq 1 & j\\in J, t\\in [F_{j}+1,...,|T|] \\\\\n",
        "& P_{j}^{\\text{min}} v_{jt} \\leq p_{jt} \\leq \\bar{p}_{jt} \\leq P_{j}^{\\text{max}} v_{jt} & j\\in J, t \\in T  \\\\\n",
        "& \\bar{p}_{jt} \\leq p_{j,t-1} + R_{j}^{\\text{U}} v_{j,t-1} + S_{j}^{\\text{U}} Y_{jt} & j\\in J, t \\in T  \\\\\n",
        "& \\bar{p}_{jt} \\leq P_{j}^{\\text{max}} (v_{jt}-z_{j,t+1})+ z_{j,t+1} S_{j}^{\\text{D}} & j\\in J, t \\in T  \\\\\n",
        "& P_{jt}, \\bar{jt} \\geq 0 \\\\\n",
        "& v_{jt}, y_{jt}, z_{jt} = \\{0,1\\}\n",
        "\\end{align*}\n",
        "\n",
        "Unit Commitment in Electric Energy Systems. M. F. Anjos and A. J. Conejo.  Foundations and Trends in Electric Energy Systems. Vol. 1, No. 4, 220--310 , 2017"
      ],
      "metadata": {
        "id": "jnGsurAVD2Q4"
      }
    },
    {
      "cell_type": "code",
      "source": [
        "T = {1,2,3,4,5,6}\n",
        "G = {1,2,3}\n",
        "Pmax = {1: 300, 2: 200, 3: 100}\n",
        "Pmin = {1: 80, 2: 50, 3: 30}\n",
        "cU = {1: 800, 2: 500, 3: 250}\n",
        "c = {1: 5, 2: 15, 3: 30}\n",
        "De = {1: 240, 2: 250, 3: 200, 4: 170, 5: 230, 6: 190}\n",
        "R = {1: 0, 2: 10, 3: 10, 4: 10, 5: 10, 6: 10}\n",
        "RD = {1: 30, 2: 40, 3: 50}\n",
        "RU = {1: 50, 2: 60, 3: 70}\n",
        "SU = {1: 100, 2: 70, 3: 40}\n",
        "SD = {1: 80, 2: 50, 3: 30}\n",
        "TU = {1: 3, 2: 2, 3: 1}\n",
        "TD = {1: 2, 2: 2, 3: 2}\n",
        "U = {1: 2, 2: 0, 3: 0}\n",
        "D = {1: 0, 2: 0, 3: 0}\n",
        "v0 = {1: 1, 2: 0, 3: 0}\n",
        "p0 = {1: 120, 2: 0, 3: 0}\n"
      ],
      "metadata": {
        "id": "0AtNKn6RhzmW"
      },
      "execution_count": 120,
      "outputs": []
    },
    {
      "cell_type": "code",
      "source": [
        "from pyomo.environ import *\n",
        "# Crear un modelo\n",
        "model      = ConcreteModel()\n",
        "# Conjuntos\n",
        "model.G    = Set(initialize = G)\n",
        "model.T    = Set(initialize = T)\n",
        "# Parametros\n",
        "model.Pmax  = Param(model.G    , initialize = Pmax  , within = Any)\n",
        "model.Pmin  = Param(model.G    , initialize = Pmin  , within = Any)\n",
        "model.c     = Param(model.G    , initialize = c     , within = Any)\n",
        "model.cU    = Param(model.G    , initialize = cU    , within = Any)\n",
        "model.De    = Param(model.T    , initialize = De    , within = Any)\n",
        "model.R     = Param(model.T    , initialize = R     , within = Any)\n",
        "model.RU    = Param(model.G    , initialize = RU    , within = Any)\n",
        "model.RD    = Param(model.G    , initialize = RD    , within = Any)\n",
        "model.SU    = Param(model.G    , initialize = SU    , within = Any)\n",
        "model.SD    = Param(model.G    , initialize = SD    , within = Any)\n",
        "model.U     = Param(model.G    , initialize = U     , within = Any)\n",
        "model.D     = Param(model.G    , initialize = D     , within = Any)\n",
        "model.TU    = Param(model.G    , initialize = TU    , within = Any)\n",
        "model.TD    = Param(model.G    , initialize = TD    , within = Any)\n",
        "model.v0    = Param(model.G    , initialize = v0   , within = Any)\n",
        "model.p0    = Param(model.G    , initialize = p0   , within = Any)\n",
        "\n",
        "# Variables\n",
        "model.p     = Var( model.G , model.T , bounds = (0.0,99999.0))\n",
        "model.pb    = Var( model.G , model.T , bounds = (0.0,99999.0))\n",
        "model.v     = Var( model.G , model.T , within = Binary)\n",
        "model.y     = Var( model.G , model.T , within = Binary)\n",
        "model.z     = Var( model.G , model.T , within = Binary)\n",
        "\n",
        "\n",
        "\n",
        "def obj_rule(m):\n",
        "    return sum(( m.c[j] * m.p[j,t] + m.cU[j] * m.y[j,t] ) for t in m.T for j in m.G)\n",
        "model.obj = Objective(rule = obj_rule,sense=minimize)\n",
        "\n",
        "def demand_rule_1(m,t):                      ## demanda eq.(1)\n",
        "    return sum( m.p[j,t] for j in m.G )   == m.De[t]\n",
        "model.demand_rule_1 = Constraint(model.T, rule = demand_rule_1)\n",
        "\n",
        "def demand_rule_2(m,t):                      ## demanda eq.(2)\n",
        "    return sum( m.pb[j,t] for j in m.G )   >= m.De[t] + m.R[t]\n",
        "model.demand_rule_2 = Constraint(model.T, rule = demand_rule_2)\n",
        "\n",
        "## -----------------------------GARVER------------------------------------------\n",
        "def logical_rule(m,j,t):     ## arranque-paro-operacion eq.(4)\n",
        "    if t == 1:\n",
        "        return  m.v0[j]   - m.v[j,t] + m.y[j,t] - m.z[j,t] == 0\n",
        "    else:\n",
        "        return m.v[j,t-1] - m.v[j,t] + m.y[j,t] - m.z[j,t] == 0\n",
        "model.logical = Constraint(model.G,model.T,rule = logical_rule)\n",
        "\n",
        "## Reservas\n",
        "def ramping_up(m,j,t):\n",
        "    if t == 1:\n",
        "        return  m.p[j,t] - m.p0[j] <=  m.RU[j] * m.v0[j] + m.SU[j] * m.y[j,t]\n",
        "    else:\n",
        "        return   m.p[j,t] - m.p[j,t-1] <=  m.RU[j] * m.v[j,t-1] + m.SU[j] * m.y[j,t]\n",
        "model.ramping_up = Constraint(model.G,model.T,rule = ramping_up)\n",
        "def ramping_down(m,j,t):\n",
        "    if t == 1:\n",
        "        return m.p0[j] - m.p[j,t] <= m.RD[j] * m.v[j,t] + m.SD[j] * m.z[j,t]\n",
        "    else:\n",
        "        return m.p[j,t-1] - m.p[j,t] <= m.RD[j] * m.v[j,t] + m.SD[j] * m.z[j,t]\n",
        "model.ramping_down = Constraint(model.G,model.T,rule = ramping_down)\n",
        "\n",
        "## Limites de los generadores\n",
        "def limite_uno(m,j,t):\n",
        "    return m.Pmin[ j ] * m.v[ j , t ] <= m.p[ j , t ]\n",
        "model.limite_uno = Constraint(model.G,model.T,rule = Limite_uno)\n",
        "\n",
        "def limite_dos(m,j,t):\n",
        "    return m.p[ j , t ] <= m.pb[ j , t ]\n",
        "model.limite_dos = Constraint(model.G,model.T,rule = Limite_dos)\n",
        "\n",
        "def limite_tres(m,j,t):\n",
        "    return m.pb[ j , t ] <= m.Pmax[ j ] * m.v[ j , t ]\n",
        "model.limite_tres = Constraint(model.G,model.T,rule = Limite_tres)\n",
        "\n",
        "def limite_arranque(m,j,t):\n",
        "    return m.pb[ j , t ] <= m.p0[ j ] + m.RU[ j ] * m.v0[ j ] + m.SU[ j ] * m.y[ j , t]\n",
        "model.limite_arranque = Constraint(model.G,model.T,rule = limite_arranque)\n",
        "\n",
        "\n",
        "# Uptime    * * * * * * * * * * * *\n",
        "  subject to Const_Uptime{ j in J , t in (min(card(T),U[j])+1)..(card(T)) } :\n",
        "  sum{ k in ( t-TU[j]+1)..t:k>=1 } y[ j , k ] <=  v[ j , t ];\n",
        "\n",
        "# Downtime  * * * * * * * * * * * *\n",
        "  subject to Const_Downtime{j in J , t in (min(card(T),D[j])+1)..(card(T)) } :\n",
        "  v[ j , t ] + sum{ k in ( t-TD[j]+1)..t:k>=1 } z[ j , k ] <= 1 ;\n",
        "\n",
        "\n",
        "# Generation Limits 4\n",
        "  subject to Const_GenerationLimits4{ j in J , t in T:t>1} :\n",
        "  pb[ j , t ] <= p[ j , t - 1 ] + RU[ j ] * v[ j , t - 1 ] + SU[ j ] * y[ j , t ];\n",
        "\n",
        "# Generation Limits 5\n",
        "  subject to Const_GenerationLimits5{ j in J , t in T:(t<(card(T)-1))} :\n",
        "  pb[ j , t ] <= Pmax[ j ] * ( v[j,t] - z[j,t+1] ) + z[j,t+1] * SD[ j ];\n",
        "\n",
        "# model.pprint() ## Se imprime el modelo"
      ],
      "metadata": {
        "colab": {
          "base_uri": "https://localhost:8080/"
        },
        "id": "4lcjnWwQfT88",
        "outputId": "aa0e8075-401e-400f-b1fb-5a78f60f912e"
      },
      "execution_count": 136,
      "outputs": [
        {
          "output_type": "stream",
          "name": "stderr",
          "text": [
            "WARNING:pyomo.core:Initializing ordered Set G with a fundamentally unordered data source (type: set).  This WILL potentially lead to nondeterministic behavior in Pyomo\n",
            "WARNING:pyomo.core:Initializing ordered Set T with a fundamentally unordered data source (type: set).  This WILL potentially lead to nondeterministic behavior in Pyomo\n"
          ]
        }
      ]
    },
    {
      "cell_type": "code",
      "source": [
        "SolverFactory('cbc', executable='/usr/bin/cbc').solve(model).write()\n",
        "\n",
        "print('\\n z = ', model.obj())\n",
        "\n",
        "print('\\nDecision Variables')\n",
        "print('p = ', model.p[1,1].value)\n",
        "print('pb = ', model.pb)\n",
        "print('v = ', model.v)\n",
        "print('y = ', model.y)\n",
        "print('z = ', model.z)"
      ],
      "metadata": {
        "colab": {
          "base_uri": "https://localhost:8080/"
        },
        "id": "lueZJ-zyv8mu",
        "outputId": "5c3ef110-e885-40cb-f6b2-d3d16d129def"
      },
      "execution_count": 134,
      "outputs": [
        {
          "output_type": "stream",
          "name": "stdout",
          "text": [
            "# ==========================================================\n",
            "# = Solver Results                                         =\n",
            "# ==========================================================\n",
            "# ----------------------------------------------------------\n",
            "#   Problem Information\n",
            "# ----------------------------------------------------------\n",
            "Problem: \n",
            "- Name: unknown\n",
            "  Lower bound: 8700.0\n",
            "  Upper bound: 8700.0\n",
            "  Number of objectives: 1\n",
            "  Number of constraints: 70\n",
            "  Number of variables: 64\n",
            "  Number of binary variables: 54\n",
            "  Number of integer variables: 54\n",
            "  Number of nonzeros: 30\n",
            "  Sense: minimize\n",
            "# ----------------------------------------------------------\n",
            "#   Solver Information\n",
            "# ----------------------------------------------------------\n",
            "Solver: \n",
            "- Status: ok\n",
            "  User time: -1.0\n",
            "  System time: 0.49\n",
            "  Wallclock time: 0.5\n",
            "  Termination condition: optimal\n",
            "  Termination message: Model was solved to optimality (subject to tolerances), and an optimal solution is available.\n",
            "  Statistics: \n",
            "    Branch and bound: \n",
            "      Number of bounded subproblems: 16\n",
            "      Number of created subproblems: 16\n",
            "    Black box: \n",
            "      Number of iterations: 2914\n",
            "  Error rc: 0\n",
            "  Time: 0.5120773315429688\n",
            "# ----------------------------------------------------------\n",
            "#   Solution Information\n",
            "# ----------------------------------------------------------\n",
            "Solution: \n",
            "- number of solutions: 0\n",
            "  number of solutions displayed: 0\n",
            "\n",
            " z =  8700.0\n",
            "\n",
            "Decision Variables\n",
            "p =  240.0\n",
            "pb =  pb\n",
            "v =  v\n",
            "y =  y\n",
            "z =  z\n"
          ]
        }
      ]
    }
  ]
}