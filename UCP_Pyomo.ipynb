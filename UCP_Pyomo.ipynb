{
  "nbformat": 4,
  "nbformat_minor": 0,
  "metadata": {
    "colab": {
      "provenance": [],
      "authorship_tag": "ABX9TyMjVWIw0w+5RlnGOmCQue2x",
      "include_colab_link": true
    },
    "kernelspec": {
      "name": "python3",
      "display_name": "Python 3"
    },
    "language_info": {
      "name": "python"
    }
  },
  "cells": [
    {
      "cell_type": "markdown",
      "metadata": {
        "id": "view-in-github",
        "colab_type": "text"
      },
      "source": [
        "<a href=\"https://colab.research.google.com/github/urieliram/Pyomo_example/blob/main/UCP_Pyomo.ipynb\" target=\"_parent\"><img src=\"https://colab.research.google.com/assets/colab-badge.svg\" alt=\"Open In Colab\"/></a>"
      ]
    },
    {
      "cell_type": "code",
      "execution_count": 5,
      "metadata": {
        "id": "yo5mHJqEfO5W"
      },
      "outputs": [],
      "source": [
        "!pip install -q pyomo"
      ]
    },
    {
      "cell_type": "markdown",
      "source": [
        "\\begin{align*}\n",
        "\\text{Min} \\quad & \\sum_{t\\in T} \\sum_{j\\in J} ( c_{j} p_{jt} + c_{j}^\\text{U} y_{jt}) \\\\\n",
        "\\text{Sujeto a:} \\quad & \\sum_{j\\in J} p_{jt} = D_{t}, & t \\in T \\\\\n",
        "& \\sum_{j\\in J} \\bar{p}_{jt} \\geq D_{t} + R_{t}, &  t \\in T\\\\\n",
        "& c_{j}p_{jt} \\geq \\alpha_{js} p_{jt} + \\beta_{js}, & s=1,…C_j, j \\in J \\\\\n",
        "& v_{j,t-1} - v_{jt} + y_{jt} - z_{jt} = 0 & j\\in J, t \\in T  \\\\\n",
        "& p_{jt} - p_{j,t-1} \\leq R_{j}^\\text{U} v_{j,t-1} + S_{j}^\\text{U} y_{jt} & j\\in J, t \\in T  \\\\\n",
        "& p_{j,t-1} - p_{jt} \\leq R_{j}^\\text{D} v_{j,t} + S_{j}^\\text{D} z_{jt} & j\\in J, t \\in T  \\\\\n",
        "& \\sum_{k=t-T_{j}^{U}+1,k \\geq 1}^{t} y_{jk} \\leq v_{jt} & j\\in J, t\\in [L_{j}+1,...,|T|] \\\\\n",
        "& v_{jt}+\\sum_{k=t-T_{j}^{D}+1,k \\geq 1}^{t} z_{jk} \\leq 1 & j\\in J, t\\in [F_{j}+1,...,|T|] \\\\\n",
        "& P_{j}^{\\text{min}} v_{jt} \\leq p_{jt} \\leq \\bar{p}_{jt} \\leq P_{j}^{\\text{max}} v_{jt} & j\\in J, t \\in T  \\\\\n",
        "& \\bar{p}_{jt} \\leq p_{j,t-1} + R_{j}^{\\text{U}} v_{j,t-1} + S_{j}^{\\text{U}} Y_{jt} & j\\in J, t \\in T  \\\\\n",
        "& \\bar{p}_{jt} \\leq P_{j}^{\\text{max}} (v_{jt}-z_{j,t+1})+ z_{j,t+1} S_{j}^{\\text{D}} & j\\in J, t \\in T  \\\\\n",
        "& P_{jt}, \\bar{jt} \\geq 0 \\\\\n",
        "& v_{jt}, y_{jt}, z_{jt} = \\{0,1\\}\n",
        "\\end{align*}\n",
        "\n",
        "Unit Commitment in Electric Energy Systems. M. F. Anjos and A. J. Conejo.  Foundations and Trends in Electric Energy Systems. Vol. 1, No. 4, 220--310 , 2017"
      ],
      "metadata": {
        "id": "jnGsurAVD2Q4"
      }
    },
    {
      "cell_type": "code",
      "source": [
        "T = {1,2,3,4,5,6}\n",
        "G = {1,2,3}\n",
        "Pmax= {300,200,100}\n",
        "Pmin= {80,50,30}\n",
        "cU = {800,500,250}\n",
        "c  = {5,15,30}\n",
        "De = {240,250,200,170,230,190}\n",
        "R  = {0,10,10,10,10,10}\n",
        "RD = {30,40,50}\n",
        "RU = {50,60,70}\n",
        "SU = {100,70,40}\n",
        "SD = {80,50,30}\n",
        "TU = {3,2,1}\n",
        "TD = {2,2,2}\n",
        "U  = {2,0,0}\n",
        "D  = {0,0,0}\n",
        "v0 = {1,0,0}\n",
        "p0 = {120,0,0}"
      ],
      "metadata": {
        "id": "0AtNKn6RhzmW"
      },
      "execution_count": 21,
      "outputs": []
    },
    {
      "cell_type": "code",
      "source": [
        "from pyomo.environ import *\n",
        "# Crear un modelo\n",
        "model      = ConcreteModel()\n",
        "# Conjuntos\n",
        "model.G    = Set(initialize = G)\n",
        "model.T    = Set(initialize = T)\n",
        "# Parametros\n",
        "model.Pmax  = Param(model.G    , initialize = Pmax  , within = Any)\n",
        "model.Pmin  = Param(model.G    , initialize = Pmin  , within = Any)\n",
        "model.c     = Param(model.G    , initialize = c     , within = Any)\n",
        "model.cU    = Param(model.G    , initialize = cU    , within = Any)\n",
        "model.De    = Param(model.T    , initialize = De    , within = Any)\n",
        "model.R     = Param(model.T    , initialize = R     , within = Any)\n",
        "model.RU    = Param(model.G    , initialize = RU    , within = Any)\n",
        "model.RD    = Param(model.G    , initialize = RD    , within = Any)\n",
        "model.SU    = Param(model.G    , initialize = SU    , within = Any)\n",
        "model.SD    = Param(model.G    , initialize = SD    , within = Any)\n",
        "model.U     = Param(model.G    , initialize = U     , within = Any)\n",
        "model.D     = Param(model.G    , initialize = D     , within = Any)\n",
        "model.TU    = Param(model.G    , initialize = TU    , within = Any)\n",
        "model.TD    = Param(model.G    , initialize = TD    , within = Any)\n",
        "model.v0    = Param(model.G    , initialize = v0   , within = Any)\n",
        "model.p0    = Param(model.G    , initialize = p0   , within = Any)\n",
        "\n",
        "# Variables\n",
        "model.p     = Var( model.G , model.T , bounds = (0.0,99999.0))\n",
        "model.pb    = Var( model.G , model.T , bounds = (0.0,99999.0))\n",
        "model.u     = Var( model.G , model.T , within = Binary)\n",
        "model.v     = Var( model.G , model.T , within = Binary)\n",
        "model.w     = Var( model.G , model.T , within = Binary)\n",
        "\n",
        "# Objective Function\n",
        "def obj_rule(m):\n",
        "    return  m.total_cEN\n",
        "model.obj = Objective(rule = obj_rule, sense=minimize)\n",
        "\n",
        "def total_cEN_rule(m):  ## to account energy cost\n",
        "    return m.total_cEN == sum( (m.c[j] * m.p[j,t] + m.cU[j] * m.y[j,t]) for t in m.T for j in m.J)\n",
        "model.total_cEN_ = Constraint(rule = total_cEN_rule)\n",
        "\n",
        "\n",
        "# def demand_rule65(m,t):                      ## demand eq.(65)\n",
        "#     ##return sum( m.p[g,t] for g in m.G ) +  m.sn[t]  == m.De[t]\n",
        "#     return sum( m.p[g,t] for g in m.G )   == m.De[t]\n",
        "# model.demand_rule65  = Constraint(model.T, rule = demand_rule65)\n",
        "\n",
        "# def demand_rule67(m,t):                      ## demand + reserve eq.(67)\n",
        "#     ##return sum( m.pb[g,t] for g in m.G ) +  m.sn[t] >= m.De[t] + m.R[t]\n",
        "#     return sum( m.pb[g,t] for g in m.G )  >= m.De[t] + m.R[t]\n",
        "# model.demand_rule67  = Constraint(model.T, rule = demand_rule67)"
      ],
      "metadata": {
        "colab": {
          "base_uri": "https://localhost:8080/",
          "height": 549
        },
        "id": "4lcjnWwQfT88",
        "outputId": "c5b8749b-b27c-47ca-d9eb-71ff7cc6cb14"
      },
      "execution_count": 47,
      "outputs": [
        {
          "output_type": "stream",
          "name": "stderr",
          "text": [
            "WARNING:pyomo.core:Initializing ordered Set G with a fundamentally unordered data source (type: set).  This WILL potentially lead to nondeterministic behavior in Pyomo\n",
            "WARNING:pyomo.core:Initializing ordered Set T with a fundamentally unordered data source (type: set).  This WILL potentially lead to nondeterministic behavior in Pyomo\n",
            "ERROR:pyomo.core:Rule failed when generating expression for Objective obj with index None:\n",
            "AttributeError: 'ConcreteModel' object has no attribute 'total_cEN'\n",
            "ERROR:pyomo.core:Constructing component 'obj' from data=None failed:\n",
            "AttributeError: 'ConcreteModel' object has no attribute 'total_cEN'\n"
          ]
        },
        {
          "output_type": "error",
          "ename": "AttributeError",
          "evalue": "'ConcreteModel' object has no attribute 'total_cEN'",
          "traceback": [
            "\u001b[0;31m---------------------------------------------------------------------------\u001b[0m",
            "\u001b[0;31mAttributeError\u001b[0m                            Traceback (most recent call last)",
            "\u001b[0;32m<ipython-input-47-a4691347dd86>\u001b[0m in \u001b[0;36m<cell line: 35>\u001b[0;34m()\u001b[0m\n\u001b[1;32m     33\u001b[0m \u001b[0;32mdef\u001b[0m \u001b[0mobj_rule\u001b[0m\u001b[0;34m(\u001b[0m\u001b[0mm\u001b[0m\u001b[0;34m)\u001b[0m\u001b[0;34m:\u001b[0m\u001b[0;34m\u001b[0m\u001b[0;34m\u001b[0m\u001b[0m\n\u001b[1;32m     34\u001b[0m     \u001b[0;32mreturn\u001b[0m  \u001b[0mm\u001b[0m\u001b[0;34m.\u001b[0m\u001b[0mtotal_cEN\u001b[0m\u001b[0;34m\u001b[0m\u001b[0;34m\u001b[0m\u001b[0m\n\u001b[0;32m---> 35\u001b[0;31m \u001b[0mmodel\u001b[0m\u001b[0;34m.\u001b[0m\u001b[0mobj\u001b[0m \u001b[0;34m=\u001b[0m \u001b[0mObjective\u001b[0m\u001b[0;34m(\u001b[0m\u001b[0mrule\u001b[0m \u001b[0;34m=\u001b[0m \u001b[0mobj_rule\u001b[0m\u001b[0;34m,\u001b[0m \u001b[0msense\u001b[0m\u001b[0;34m=\u001b[0m\u001b[0mminimize\u001b[0m\u001b[0;34m)\u001b[0m\u001b[0;34m\u001b[0m\u001b[0;34m\u001b[0m\u001b[0m\n\u001b[0m\u001b[1;32m     36\u001b[0m \u001b[0;34m\u001b[0m\u001b[0m\n\u001b[1;32m     37\u001b[0m \u001b[0;32mdef\u001b[0m \u001b[0mtotal_cEN_rule\u001b[0m\u001b[0;34m(\u001b[0m\u001b[0mm\u001b[0m\u001b[0;34m)\u001b[0m\u001b[0;34m:\u001b[0m  \u001b[0;31m## to account energy cost\u001b[0m\u001b[0;34m\u001b[0m\u001b[0;34m\u001b[0m\u001b[0m\n",
            "\u001b[0;32m/usr/local/lib/python3.10/dist-packages/pyomo/core/base/block.py\u001b[0m in \u001b[0;36m__setattr__\u001b[0;34m(self, name, val)\u001b[0m\n\u001b[1;32m    578\u001b[0m                 \u001b[0;31m# Pyomo components are added with the add_component method.\u001b[0m\u001b[0;34m\u001b[0m\u001b[0;34m\u001b[0m\u001b[0m\n\u001b[1;32m    579\u001b[0m                 \u001b[0;31m#\u001b[0m\u001b[0;34m\u001b[0m\u001b[0;34m\u001b[0m\u001b[0m\n\u001b[0;32m--> 580\u001b[0;31m                 \u001b[0mself\u001b[0m\u001b[0;34m.\u001b[0m\u001b[0madd_component\u001b[0m\u001b[0;34m(\u001b[0m\u001b[0mname\u001b[0m\u001b[0;34m,\u001b[0m \u001b[0mval\u001b[0m\u001b[0;34m)\u001b[0m\u001b[0;34m\u001b[0m\u001b[0;34m\u001b[0m\u001b[0m\n\u001b[0m\u001b[1;32m    581\u001b[0m             \u001b[0;32melse\u001b[0m\u001b[0;34m:\u001b[0m\u001b[0;34m\u001b[0m\u001b[0;34m\u001b[0m\u001b[0m\n\u001b[1;32m    582\u001b[0m                 \u001b[0;31m#\u001b[0m\u001b[0;34m\u001b[0m\u001b[0;34m\u001b[0m\u001b[0m\n",
            "\u001b[0;32m/usr/local/lib/python3.10/dist-packages/pyomo/core/base/block.py\u001b[0m in \u001b[0;36madd_component\u001b[0;34m(self, name, val)\u001b[0m\n\u001b[1;32m   1183\u001b[0m                 )\n\u001b[1;32m   1184\u001b[0m             \u001b[0;32mtry\u001b[0m\u001b[0;34m:\u001b[0m\u001b[0;34m\u001b[0m\u001b[0;34m\u001b[0m\u001b[0m\n\u001b[0;32m-> 1185\u001b[0;31m                 \u001b[0mval\u001b[0m\u001b[0;34m.\u001b[0m\u001b[0mconstruct\u001b[0m\u001b[0;34m(\u001b[0m\u001b[0mdata\u001b[0m\u001b[0;34m)\u001b[0m\u001b[0;34m\u001b[0m\u001b[0;34m\u001b[0m\u001b[0m\n\u001b[0m\u001b[1;32m   1186\u001b[0m             \u001b[0;32mexcept\u001b[0m\u001b[0;34m:\u001b[0m\u001b[0;34m\u001b[0m\u001b[0;34m\u001b[0m\u001b[0m\n\u001b[1;32m   1187\u001b[0m                 \u001b[0merr\u001b[0m \u001b[0;34m=\u001b[0m \u001b[0msys\u001b[0m\u001b[0;34m.\u001b[0m\u001b[0mexc_info\u001b[0m\u001b[0;34m(\u001b[0m\u001b[0;34m)\u001b[0m\u001b[0;34m[\u001b[0m\u001b[0;36m1\u001b[0m\u001b[0;34m]\u001b[0m\u001b[0;34m\u001b[0m\u001b[0;34m\u001b[0m\u001b[0m\n",
            "\u001b[0;32m/usr/local/lib/python3.10/dist-packages/pyomo/core/base/objective.py\u001b[0m in \u001b[0;36mconstruct\u001b[0;34m(self, data)\u001b[0m\n\u001b[1;32m    325\u001b[0m                 \u001b[0;31m# Bypass the index validation and create the member directly\u001b[0m\u001b[0;34m\u001b[0m\u001b[0;34m\u001b[0m\u001b[0m\n\u001b[1;32m    326\u001b[0m                 \u001b[0;32mfor\u001b[0m \u001b[0mindex\u001b[0m \u001b[0;32min\u001b[0m \u001b[0mself\u001b[0m\u001b[0;34m.\u001b[0m\u001b[0mindex_set\u001b[0m\u001b[0;34m(\u001b[0m\u001b[0;34m)\u001b[0m\u001b[0;34m:\u001b[0m\u001b[0;34m\u001b[0m\u001b[0;34m\u001b[0m\u001b[0m\n\u001b[0;32m--> 327\u001b[0;31m                     \u001b[0mans\u001b[0m \u001b[0;34m=\u001b[0m \u001b[0mself\u001b[0m\u001b[0;34m.\u001b[0m\u001b[0m_setitem_when_not_present\u001b[0m\u001b[0;34m(\u001b[0m\u001b[0mindex\u001b[0m\u001b[0;34m,\u001b[0m \u001b[0mrule\u001b[0m\u001b[0;34m(\u001b[0m\u001b[0mblock\u001b[0m\u001b[0;34m,\u001b[0m \u001b[0mindex\u001b[0m\u001b[0;34m)\u001b[0m\u001b[0;34m)\u001b[0m\u001b[0;34m\u001b[0m\u001b[0;34m\u001b[0m\u001b[0m\n\u001b[0m\u001b[1;32m    328\u001b[0m                     \u001b[0;32mif\u001b[0m \u001b[0mans\u001b[0m \u001b[0;32mis\u001b[0m \u001b[0;32mnot\u001b[0m \u001b[0;32mNone\u001b[0m\u001b[0;34m:\u001b[0m\u001b[0;34m\u001b[0m\u001b[0;34m\u001b[0m\u001b[0m\n\u001b[1;32m    329\u001b[0m                         \u001b[0mans\u001b[0m\u001b[0;34m.\u001b[0m\u001b[0mset_sense\u001b[0m\u001b[0;34m(\u001b[0m\u001b[0mself\u001b[0m\u001b[0;34m.\u001b[0m\u001b[0m_init_sense\u001b[0m\u001b[0;34m(\u001b[0m\u001b[0mblock\u001b[0m\u001b[0;34m,\u001b[0m \u001b[0mindex\u001b[0m\u001b[0;34m)\u001b[0m\u001b[0;34m)\u001b[0m\u001b[0;34m\u001b[0m\u001b[0;34m\u001b[0m\u001b[0m\n",
            "\u001b[0;32m/usr/local/lib/python3.10/dist-packages/pyomo/core/base/initializer.py\u001b[0m in \u001b[0;36m__call__\u001b[0;34m(self, parent, idx)\u001b[0m\n\u001b[1;32m    436\u001b[0m \u001b[0;34m\u001b[0m\u001b[0m\n\u001b[1;32m    437\u001b[0m     \u001b[0;32mdef\u001b[0m \u001b[0m__call__\u001b[0m\u001b[0;34m(\u001b[0m\u001b[0mself\u001b[0m\u001b[0;34m,\u001b[0m \u001b[0mparent\u001b[0m\u001b[0;34m,\u001b[0m \u001b[0midx\u001b[0m\u001b[0;34m)\u001b[0m\u001b[0;34m:\u001b[0m\u001b[0;34m\u001b[0m\u001b[0;34m\u001b[0m\u001b[0m\n\u001b[0;32m--> 438\u001b[0;31m         \u001b[0;32mreturn\u001b[0m \u001b[0mself\u001b[0m\u001b[0;34m.\u001b[0m\u001b[0m_fcn\u001b[0m\u001b[0;34m(\u001b[0m\u001b[0mparent\u001b[0m\u001b[0;34m)\u001b[0m\u001b[0;34m\u001b[0m\u001b[0;34m\u001b[0m\u001b[0m\n\u001b[0m\u001b[1;32m    439\u001b[0m \u001b[0;34m\u001b[0m\u001b[0m\n\u001b[1;32m    440\u001b[0m     \u001b[0;32mdef\u001b[0m \u001b[0mconstant\u001b[0m\u001b[0;34m(\u001b[0m\u001b[0mself\u001b[0m\u001b[0;34m)\u001b[0m\u001b[0;34m:\u001b[0m\u001b[0;34m\u001b[0m\u001b[0;34m\u001b[0m\u001b[0m\n",
            "\u001b[0;32m<ipython-input-47-a4691347dd86>\u001b[0m in \u001b[0;36mobj_rule\u001b[0;34m(m)\u001b[0m\n\u001b[1;32m     32\u001b[0m \u001b[0;31m# Objective Function\u001b[0m\u001b[0;34m\u001b[0m\u001b[0;34m\u001b[0m\u001b[0m\n\u001b[1;32m     33\u001b[0m \u001b[0;32mdef\u001b[0m \u001b[0mobj_rule\u001b[0m\u001b[0;34m(\u001b[0m\u001b[0mm\u001b[0m\u001b[0;34m)\u001b[0m\u001b[0;34m:\u001b[0m\u001b[0;34m\u001b[0m\u001b[0;34m\u001b[0m\u001b[0m\n\u001b[0;32m---> 34\u001b[0;31m     \u001b[0;32mreturn\u001b[0m  \u001b[0mm\u001b[0m\u001b[0;34m.\u001b[0m\u001b[0mtotal_cEN\u001b[0m\u001b[0;34m\u001b[0m\u001b[0;34m\u001b[0m\u001b[0m\n\u001b[0m\u001b[1;32m     35\u001b[0m \u001b[0mmodel\u001b[0m\u001b[0;34m.\u001b[0m\u001b[0mobj\u001b[0m \u001b[0;34m=\u001b[0m \u001b[0mObjective\u001b[0m\u001b[0;34m(\u001b[0m\u001b[0mrule\u001b[0m \u001b[0;34m=\u001b[0m \u001b[0mobj_rule\u001b[0m\u001b[0;34m,\u001b[0m \u001b[0msense\u001b[0m\u001b[0;34m=\u001b[0m\u001b[0mminimize\u001b[0m\u001b[0;34m)\u001b[0m\u001b[0;34m\u001b[0m\u001b[0;34m\u001b[0m\u001b[0m\n\u001b[1;32m     36\u001b[0m \u001b[0;34m\u001b[0m\u001b[0m\n",
            "\u001b[0;32m/usr/local/lib/python3.10/dist-packages/pyomo/core/base/block.py\u001b[0m in \u001b[0;36m__getattr__\u001b[0;34m(self, val)\u001b[0m\n\u001b[1;32m    557\u001b[0m         \u001b[0;31m# Since the base classes don't support getattr, we can just\u001b[0m\u001b[0;34m\u001b[0m\u001b[0;34m\u001b[0m\u001b[0m\n\u001b[1;32m    558\u001b[0m         \u001b[0;31m# throw the \"normal\" AttributeError\u001b[0m\u001b[0;34m\u001b[0m\u001b[0;34m\u001b[0m\u001b[0m\n\u001b[0;32m--> 559\u001b[0;31m         raise AttributeError(\n\u001b[0m\u001b[1;32m    560\u001b[0m             \u001b[0;34m\"'%s' object has no attribute '%s'\"\u001b[0m \u001b[0;34m%\u001b[0m \u001b[0;34m(\u001b[0m\u001b[0mself\u001b[0m\u001b[0;34m.\u001b[0m\u001b[0m__class__\u001b[0m\u001b[0;34m.\u001b[0m\u001b[0m__name__\u001b[0m\u001b[0;34m,\u001b[0m \u001b[0mval\u001b[0m\u001b[0;34m)\u001b[0m\u001b[0;34m\u001b[0m\u001b[0;34m\u001b[0m\u001b[0m\n\u001b[1;32m    561\u001b[0m         )\n",
            "\u001b[0;31mAttributeError\u001b[0m: 'ConcreteModel' object has no attribute 'total_cEN'"
          ]
        }
      ]
    }
  ]
}