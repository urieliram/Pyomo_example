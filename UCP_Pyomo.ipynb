{
  "nbformat": 4,
  "nbformat_minor": 0,
  "metadata": {
    "colab": {
      "provenance": [],
      "authorship_tag": "ABX9TyNYrNd3qiaaezlYbUM2JMAj",
      "include_colab_link": true
    },
    "kernelspec": {
      "name": "python3",
      "display_name": "Python 3"
    },
    "language_info": {
      "name": "python"
    }
  },
  "cells": [
    {
      "cell_type": "markdown",
      "metadata": {
        "id": "view-in-github",
        "colab_type": "text"
      },
      "source": [
        "<a href=\"https://colab.research.google.com/github/urieliram/Pyomo_example/blob/main/UCP_Pyomo.ipynb\" target=\"_parent\"><img src=\"https://colab.research.google.com/assets/colab-badge.svg\" alt=\"Open In Colab\"/></a>"
      ]
    },
    {
      "cell_type": "code",
      "execution_count": 7,
      "metadata": {
        "id": "yo5mHJqEfO5W"
      },
      "outputs": [],
      "source": [
        "!pip install -q pyomo\n",
        "!apt-get install -y -qq glpk-utils\n",
        "!apt-get install -y -qq coinor-cbc"
      ]
    },
    {
      "cell_type": "markdown",
      "source": [
        "\\begin{align*}\n",
        "\\text{Min} \\quad & \\sum_{t\\in G} \\sum_{j\\in J} ( c_{j} p_{jt} + c_{j}^\\text{U} y_{jt}) \\\\\n",
        "\\text{Sujeto a:} \\quad & \\sum_{j\\in J} p_{jt} = De_{t}, & t \\in G \\\\\n",
        "& \\sum_{j\\in J} \\bar{p}_{jt} \\geq De_{t} + R_{t}, &  t \\in G\\\\\n",
        "& c_{j}p_{jt} \\geq \\alpha_{js} p_{jt} + \\beta_{js}, & s=\\{1,…,C_j\\}, j \\in J \\\\\n",
        "& v_{j,t-1} - v_{jt} + y_{jt} - z_{jt} = 0 & j\\in J, t \\in G  \\\\\n",
        "& p_{jt} - p_{j,t-1} \\leq R_{j}^\\text{U} v_{j,t-1} + S_{j}^\\text{U} y_{jt} & j\\in J, t \\in G  \\\\\n",
        "& p_{j,t-1} - p_{jt} \\leq R_{j}^\\text{D} v_{j,t} + S_{j}^\\text{D} z_{jt} & j\\in J, t \\in G  \\\\\n",
        "& \\sum_{k=t-G_{j}^{U}+1,k \\geq 1}^{t} y_{jk} \\leq v_{jt} & j\\in J, t\\in \\{L_{j}+1,...,|G|\\} \\\\\n",
        "& v_{jt}+\\sum_{k=t-G_{j}^{D}+1,k \\geq 1}^{t} z_{jk} \\leq 1 & j\\in J, t\\in \\{F_{j}+1,...,|G|\\} \\\\\n",
        "& P_{j}^{\\text{min}} v_{jt} \\leq p_{jt} \\leq \\bar{p}_{jt} \\leq P_{j}^{\\text{max}} v_{jt} & j\\in J, t \\in G  \\\\\n",
        "& \\bar{p}_{jt} \\leq p_{j,t-1} + R_{j}^{\\text{U}} v_{j,t-1} + S_{j}^{\\text{U}} Y_{jt} & j\\in J, t \\in G  \\\\\n",
        "& \\bar{p}_{jt} \\leq P_{j}^{\\text{max}} (v_{jt}-z_{j,t+1})+ z_{j,t+1} S_{j}^{\\text{D}} & j\\in J, t =\\{1,2,...,|G|-1\\} \\\\\n",
        "& P_{jt}, \\bar{jt} \\geq 0 \\\\\n",
        "& v_{jt}, y_{jt}, z_{jt} = \\{0,1\\} \\\\\n",
        " \\quad \\text{donde:}  \\\\\n",
        "& L_{j} = min(U_{j},|T|) \\\\\n",
        "& F_{j} = min(D_{j},|T|)\n",
        "\\end{align*}\n",
        "\n",
        "\n",
        "\n",
        "Unit Commitment in Electric Energy Systems. M. F. Anjos and A. J. Conejo.  Foundations and Trends in Electric Energy Systems. Vol. 1, No. 4, 220--310 , 2017"
      ],
      "metadata": {
        "id": "jnGsurAVD2Q4"
      }
    },
    {
      "cell_type": "code",
      "source": [
        "T = {1,2,3,4,5,6}\n",
        "G = {1,2,3}\n",
        "C = {1}\n",
        "Pmax = {1: 300, 2: 200, 3: 100}\n",
        "Pmin = {1: 80, 2: 50, 3: 30}\n",
        "cU = {1: 800, 2: 500, 3: 250}\n",
        "c = {1: 5, 2: 15, 3: 30}\n",
        "De = {1: 240, 2: 250, 3: 200, 4: 170, 5: 230, 6: 190}\n",
        "R = {1: 10, 2: 10, 3: 10, 4: 10, 5: 10, 6: 10}\n",
        "RD = {1: 30, 2: 40, 3: 50}\n",
        "RU = {1: 50, 2: 60, 3: 70}\n",
        "SU = {1: 100, 2: 70, 3: 40}\n",
        "SD = {1: 80, 2: 50, 3: 30}\n",
        "TU = {1: 3, 2: 2, 3: 1}\n",
        "TD = {1: 2, 2: 2, 3: 2}\n",
        "U = {1: 2, 2: 0, 3: 0}\n",
        "D = {1: 0, 2: 0, 3: 0}\n",
        "v0 = {1: 1, 2: 0, 3: 0}\n",
        "p0 = {1: 120, 2: 0, 3: 0}\n",
        "alfa = {(1,1): 1}\n",
        "beta = {(1,1): 0}"
      ],
      "metadata": {
        "id": "0AtNKn6RhzmW"
      },
      "execution_count": 8,
      "outputs": []
    },
    {
      "cell_type": "code",
      "source": [
        "from pyomo.environ import *\n",
        "# Crear un modelo\n",
        "model      = ConcreteModel()\n",
        "# Conjuntos\n",
        "model.G    = Set(initialize = G)\n",
        "model.T    = Set(initialize = T)\n",
        "model.C    = Set(initialize = C)\n",
        "# Parametros\n",
        "model.Pmax  = Param(model.G    , initialize = Pmax  , within = Any)\n",
        "model.Pmin  = Param(model.G    , initialize = Pmin  , within = Any)\n",
        "model.c     = Param(model.G    , initialize = c     , within = Any)\n",
        "model.cU    = Param(model.G    , initialize = cU    , within = Any)\n",
        "model.De    = Param(model.T    , initialize = De    , within = Any)\n",
        "model.R     = Param(model.T    , initialize = R     , within = Any)\n",
        "model.RU    = Param(model.G    , initialize = RU    , within = Any)\n",
        "model.RD    = Param(model.G    , initialize = RD    , within = Any)\n",
        "model.SU    = Param(model.G    , initialize = SU    , within = Any)\n",
        "model.SD    = Param(model.G    , initialize = SD    , within = Any)\n",
        "model.U     = Param(model.G    , initialize = U     , within = Any)\n",
        "model.D     = Param(model.G    , initialize = D     , within = Any)\n",
        "model.TU    = Param(model.G    , initialize = TU    , within = Any)\n",
        "model.TD    = Param(model.G    , initialize = TD    , within = Any)\n",
        "model.v0    = Param(model.G    , initialize = v0   , within = Any)\n",
        "model.p0    = Param(model.G    , initialize = p0   , within = Any)\n",
        "\n",
        "model.alfa  = Param(model.G , model.C , initialize = alfa, within = Any)\n",
        "model.beta  = Param(model.G , model.C , initialize = beta, within = Any)\n",
        "\n",
        "# Variables\n",
        "model.p     = Var( model.G , model.T , bounds = (0.0,99999.0) )\n",
        "model.pb    = Var( model.G , model.T , bounds = (0.0,99999.0))\n",
        "model.v     = Var( model.G , model.T , within = Binary)\n",
        "model.y     = Var( model.G , model.T , within = Binary)\n",
        "model.z     = Var( model.G , model.T , within = Binary)"
      ],
      "metadata": {
        "colab": {
          "base_uri": "https://localhost:8080/"
        },
        "id": "S1P7rZBaulGt",
        "outputId": "96351990-96f2-4287-f219-c8a63c4be000"
      },
      "execution_count": 9,
      "outputs": [
        {
          "output_type": "stream",
          "name": "stderr",
          "text": [
            "WARNING:pyomo.core:Initializing ordered Set G with a fundamentally unordered data source (type: set).  This WILL potentially lead to nondeterministic behavior in Pyomo\n",
            "WARNING:pyomo.core:Initializing ordered Set T with a fundamentally unordered data source (type: set).  This WILL potentially lead to nondeterministic behavior in Pyomo\n",
            "WARNING:pyomo.core:Initializing ordered Set C with a fundamentally unordered data source (type: set).  This WILL potentially lead to nondeterministic behavior in Pyomo\n"
          ]
        }
      ]
    },
    {
      "cell_type": "code",
      "source": [
        "def obj_rule(m):\n",
        "    return sum(( m.c[j] * m.p[j,t] + m.cU[j] * m.y[j,t] ) for t in m.T for j in m.G)\n",
        "model.obj = Objective(rule = obj_rule,sense=minimize)\n",
        "\n",
        "def demanda(m,t):\n",
        "    return sum( m.p[j,t] for j in m.G ) == m.De[t]\n",
        "model.demanda = Constraint(model.T, rule = demanda)\n",
        "\n",
        "def demanda_reserva(m,t):\n",
        "    return sum( m.pb[j,t] for j in m.G ) >= m.De[t] + m.R[t]\n",
        "model.demanda_reserva = Constraint(model.T, rule = demanda_reserva)\n",
        "\n",
        "def logical_rule(m,j,t):\n",
        "    if t == 1:\n",
        "        return m.v0[j]    - m.v[j,t] + m.y[j,t] - m.z[j,t] == 0\n",
        "    else:\n",
        "        return m.v[j,t-1] - m.v[j,t] + m.y[j,t] - m.z[j,t] == 0\n",
        "model.logical_rule = Constraint(model.G,model.T,rule = logical_rule)\n",
        "\n",
        "def rampas_subida(m,j,t):\n",
        "    if t == 1:\n",
        "        return m.p[j,t] - m.p0[j]    <=  m.RU[j] * m.v0[j]    + m.SU[j] * m.y[j,t]\n",
        "    else:\n",
        "        return m.p[j,t] - m.p[j,t-1] <=  m.RU[j] * m.v[j,t-1] + m.SU[j] * m.y[j,t]\n",
        "model.rampas_subida = Constraint(model.G,model.T,rule = rampas_subida)\n",
        "\n",
        "def rampas_bajada(m,j,t):\n",
        "    if t == 1:\n",
        "        return m.p0[j]    - m.p[j,t] <= m.RD[j] * m.v[j,t] + m.SD[j] * m.z[j,t]\n",
        "    else:\n",
        "        return m.p[j,t-1] - m.p[j,t] <= m.RD[j] * m.v[j,t] + m.SD[j] * m.z[j,t]\n",
        "model.rampas_bajada = Constraint(model.G,model.T,rule = rampas_bajada)\n",
        "\n",
        "\n",
        "def tiempo_min_encendido(m,j,t):\n",
        "    Lj = min( m.U[j],len(m.T) )\n",
        "    if t >= Lj + 1:\n",
        "        return sum( m.y[j,k] for k in range(t-m.TU[j]+1,t) if k>=1) <= m.v[ j , t ]\n",
        "    else:\n",
        "        return Constraint.Skip\n",
        "model.tiempo_min_encendido = Constraint(model.G,model.T,rule = tiempo_min_encendido)\n",
        "\n",
        "def tiempo_min_apagado(m,j,t):\n",
        "    Fj = min( m.D[j],len(m.T) )\n",
        "    if t >= Fj + 1:\n",
        "        return m.v[j,t] + sum( m.z[j,k] for k in range(t-m.TD[j]+1,t) if k>=1) <= 1\n",
        "    else:\n",
        "        return Constraint.Skip\n",
        "model.tiempo_min_apagado = Constraint(model.G,model.T,rule = tiempo_min_apagado)\n",
        "\n",
        "def limite_gen_uno(m,j,t):\n",
        "    return m.Pmin[ j ] * m.v[ j , t ] <= m.p[ j , t ]\n",
        "model.limite_gen_uno = Constraint(model.G,model.T,rule = limite_gen_uno)\n",
        "\n",
        "def limite_gen_dos(m,j,t):\n",
        "    return m.p[ j , t ] <= m.pb[ j , t ]\n",
        "model.limite_gen_dos = Constraint(model.G,model.T,rule = limite_gen_dos)\n",
        "\n",
        "def Limite_gen_tres(m,j,t):\n",
        "    return m.pb[ j , t ] <= m.Pmax[ j ] * m.v[ j , t ]\n",
        "model.Limite_gen_tres = Constraint(model.G,model.T,rule = Limite_gen_tres)\n",
        "\n",
        "def limite_arranque(m,j,t):\n",
        "    if t == 1:\n",
        "        return m.pb[j , t ] <= m.p0[ j ]      + m.RU[ j ] * m.v0[ j ]      + m.SU[ j ] * m.y[ j , t]\n",
        "    else:\n",
        "        return m.pb[j , t ] <= m.p[ j , t-1 ] + m.RU[ j ] * m.v[ j , t-1 ] + m.SU[ j ] * m.y[ j , t]\n",
        "model.limite_arranque = Constraint(model.G,model.T,rule = limite_arranque)\n",
        "\n",
        "def limite_gen_cuatro(m,j,t):\n",
        "    if t > 1:\n",
        "        return m.pb[j,t] <= m.p[j,t-1] + m.RU[j] * m.v[j, t-1] + m.SU[j] * m.y[j,t]\n",
        "    else:\n",
        "        return m.pb[j,t] <= m.p0[j]    + m.RU[j] * m.v0[j]     + m.SU[j] * m.y[j,t]\n",
        "        # return Constraint.Skip\n",
        "model.limite_gen_cuatro = Constraint(model.G,model.T,rule = limite_gen_cuatro)\n",
        "\n",
        "def limite_gen_cinco(m,j,t):\n",
        "    if t == len(T):\n",
        "        return Constraint.Skip\n",
        "    else:\n",
        "        return m.pb[j,t] <= m.Pmax[j] * ( m.v[j,t] - m.z[j,t+1] ) + m.z[j,t+1] * m.SD[j]\n",
        "model.limite_gen_cinco = Constraint(model.G,model.T,rule = limite_gen_cinco)\n",
        "\n",
        "\n",
        "# model.pprint() ## Se imprime el modelo"
      ],
      "metadata": {
        "id": "4lcjnWwQfT88"
      },
      "execution_count": 10,
      "outputs": []
    },
    {
      "cell_type": "code",
      "source": [
        "SolverFactory('cbc', executable='/usr/bin/cbc').solve(model).write()\n",
        "\n",
        "print('\\n z = ', model.obj())\n",
        "\n",
        "print('\\nDecision Variables')\n",
        "print('p = ', model.p[1,1].value)\n",
        "print('pb = ', model.pb)\n",
        "print('v = ', model.v)\n",
        "print('y = ', model.y)\n",
        "print('z = ', model.z)\n"
      ],
      "metadata": {
        "colab": {
          "base_uri": "https://localhost:8080/"
        },
        "id": "lueZJ-zyv8mu",
        "outputId": "d10cf223-6092-4e55-e078-9e2ea02a21ef"
      },
      "execution_count": 11,
      "outputs": [
        {
          "output_type": "stream",
          "name": "stdout",
          "text": [
            "# ==========================================================\n",
            "# = Solver Results                                         =\n",
            "# ==========================================================\n",
            "# ----------------------------------------------------------\n",
            "#   Problem Information\n",
            "# ----------------------------------------------------------\n",
            "Problem: \n",
            "- Name: unknown\n",
            "  Lower bound: 9900.0\n",
            "  Upper bound: 9900.0\n",
            "  Number of objectives: 1\n",
            "  Number of constraints: 169\n",
            "  Number of variables: 84\n",
            "  Number of binary variables: 54\n",
            "  Number of integer variables: 54\n",
            "  Number of nonzeros: 30\n",
            "  Sense: minimize\n",
            "# ----------------------------------------------------------\n",
            "#   Solver Information\n",
            "# ----------------------------------------------------------\n",
            "Solver: \n",
            "- Status: ok\n",
            "  User time: -1.0\n",
            "  System time: 0.07\n",
            "  Wallclock time: 0.07\n",
            "  Termination condition: optimal\n",
            "  Termination message: Model was solved to optimality (subject to tolerances), and an optimal solution is available.\n",
            "  Statistics: \n",
            "    Branch and bound: \n",
            "      Number of bounded subproblems: 0\n",
            "      Number of created subproblems: 0\n",
            "    Black box: \n",
            "      Number of iterations: 18\n",
            "  Error rc: 0\n",
            "  Time: 0.08911323547363281\n",
            "# ----------------------------------------------------------\n",
            "#   Solution Information\n",
            "# ----------------------------------------------------------\n",
            "Solution: \n",
            "- number of solutions: 0\n",
            "  number of solutions displayed: 0\n",
            "\n",
            " z =  9900.0\n",
            "\n",
            "Decision Variables\n",
            "p =  160.0\n",
            "pb =  pb\n",
            "v =  v\n",
            "y =  y\n",
            "z =  z\n"
          ]
        }
      ]
    },
    {
      "cell_type": "code",
      "source": [
        "from prettytable import PrettyTable\n",
        "\n",
        "# Crear una tabla\n",
        "tabla = PrettyTable()\n",
        "tabla.field_names = ['G', 'T', 'p', 'pb', 'v', 'y', 'z']\n",
        "\n",
        "# Llenar la tabla con los valores de las variables\n",
        "for g in G:\n",
        "    for t in T:\n",
        "        tabla.add_row([g, t, model.p[g, t].value, model.pb[g, t].value,\n",
        "                       model.v[g, t].value, model.y[g, t].value, model.z[g, t].value])\n",
        "\n",
        "# Imprimir la tabla\n",
        "print(tabla)\n"
      ],
      "metadata": {
        "colab": {
          "base_uri": "https://localhost:8080/"
        },
        "id": "icdRuSvE93ia",
        "outputId": "57b39b39-b567-426f-f424-4e20de8c6347"
      },
      "execution_count": 12,
      "outputs": [
        {
          "output_type": "stream",
          "name": "stdout",
          "text": [
            "+---+---+-------+-------+-----+-----+-----+\n",
            "| G | T |   p   |   pb  |  v  |  y  |  z  |\n",
            "+---+---+-------+-------+-----+-----+-----+\n",
            "| 1 | 1 | 160.0 | 170.0 | 1.0 | 0.0 | 0.0 |\n",
            "| 1 | 2 | 200.0 | 210.0 | 1.0 | 0.0 | 0.0 |\n",
            "| 1 | 3 | 200.0 | 210.0 | 1.0 | 0.0 | 0.0 |\n",
            "| 1 | 4 | 170.0 | 180.0 | 1.0 | 0.0 | 0.0 |\n",
            "| 1 | 5 | 200.0 | 210.0 | 1.0 | 0.0 | 0.0 |\n",
            "| 1 | 6 | 190.0 | 200.0 | 1.0 | 0.0 | 0.0 |\n",
            "| 2 | 1 |  50.0 |  70.0 | 1.0 | 1.0 | 0.0 |\n",
            "| 2 | 2 |  50.0 |  50.0 | 1.0 | 0.0 | 0.0 |\n",
            "| 2 | 3 |  0.0  |  0.0  | 0.0 | 0.0 | 1.0 |\n",
            "| 2 | 4 |  0.0  |  0.0  | 0.0 | 0.0 | 0.0 |\n",
            "| 2 | 5 |  0.0  |  0.0  | 0.0 | 0.0 | 0.0 |\n",
            "| 2 | 6 |  0.0  |  0.0  | 0.0 | 0.0 | 0.0 |\n",
            "| 3 | 1 |  30.0 |  30.0 | 1.0 | 1.0 | 0.0 |\n",
            "| 3 | 2 |  0.0  |  0.0  | 0.0 | 0.0 | 1.0 |\n",
            "| 3 | 3 |  0.0  |  0.0  | 0.0 | 0.0 | 0.0 |\n",
            "| 3 | 4 |  0.0  |  0.0  | 0.0 | 0.0 | 0.0 |\n",
            "| 3 | 5 |  30.0 |  30.0 | 1.0 | 1.0 | 0.0 |\n",
            "| 3 | 6 |  0.0  |  0.0  | 0.0 | 0.0 | 1.0 |\n",
            "+---+---+-------+-------+-----+-----+-----+\n"
          ]
        }
      ]
    }
  ]
}